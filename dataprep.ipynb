{
 "cells": [
  {
   "cell_type": "code",
   "execution_count": 1,
   "id": "264d76cf",
   "metadata": {},
   "outputs": [
    {
     "name": "stderr",
     "output_type": "stream",
     "text": [
      "/home/arpydarpy/miniconda3/envs/a1nlp/lib/python3.11/site-packages/tqdm/auto.py:21: TqdmWarning: IProgress not found. Please update jupyter and ipywidgets. See https://ipywidgets.readthedocs.io/en/stable/user_install.html\n",
      "  from .autonotebook import tqdm as notebook_tqdm\n"
     ]
    }
   ],
   "source": [
    "import numpy as np\n",
    "import matplotlib.pyplot as plt\n",
    "import torch\n",
    "import torch.nn as nn\n",
    "from sklearn import preprocessing\n",
    "from diffusers import UNet1DModel, DDPMScheduler, DDIMScheduler\n",
    "from tqdm.auto import tqdm\n",
    "from torch.utils.data import DataLoader\n",
    "from torch.nn import functional as F"
   ]
  },
  {
   "cell_type": "code",
   "execution_count": 2,
   "id": "b1ed297f",
   "metadata": {},
   "outputs": [],
   "source": [
    "def get_rms(records, multi_channels):\n",
    "    if multi_channels == 1:\n",
    "        n = records.shape[0]\n",
    "        rms = 0\n",
    "        for i in range(n):\n",
    "            rms_t = np.sum([records[i]**2]/len(records[i]))\n",
    "            rms += rms_t\n",
    "        return rms/n\n",
    "    \n",
    "    if multi_channels == 0:\n",
    "        rms = np.sum([records**2])/ len(records)\n",
    "        return rms\n",
    "\n",
    "def snr(signal, noisy):\n",
    "    snr = 10 * np.log10(signal/noisy)\n",
    "    return snr"
   ]
  },
  {
   "cell_type": "code",
   "execution_count": 3,
   "id": "0d07232b",
   "metadata": {},
   "outputs": [],
   "source": [
    "def random_signal(signal, comb):\n",
    "    res = []\n",
    "\n",
    "    for i in range(comb):\n",
    "        rand_num = np.random.permutation(signal.shape[0])\n",
    "        shuffled_dataset = signal[rand_num, :]\n",
    "        shuffled_dataset = shuffled_dataset.reshape(signal.shape[0], signal.shape[1])\n",
    "        res.append(shuffled_dataset)\n",
    "    \n",
    "    random_result = np.array(res)\n",
    "\n",
    "    return random_result"
   ]
  },
  {
   "cell_type": "code",
   "execution_count": 4,
   "id": "9900931e",
   "metadata": {},
   "outputs": [],
   "source": [
    "def prepare_data(comb):\n",
    "    eeg_data = np.load('./data/EEG_all_epochs.npy')\n",
    "    noise_data = np.load('./data/EMG_all_epochs.npy')\n",
    "\n",
    "    eeg_random = np.squeeze(random_signal(signal=eeg_data, comb=1))\n",
    "    noise_random = np.squeeze(random_signal(signal=noise_data, comb=1))\n",
    "\n",
    "    reuse_num = noise_random.shape[0] - eeg_random.shape[0]\n",
    "    eeg_reuse = eeg_random[0: reuse_num, :]\n",
    "    eeg_random = np.vstack([eeg_reuse, eeg_random])\n",
    "    print(f'EEG shape after crop and resuse to match EMG samples: {eeg_random.shape[0]}')\n",
    "\n",
    "    t = noise_random.shape[1]\n",
    "    train_num = round(eeg_random.shape[0] * 0.9)\n",
    "    test_num = round(eeg_random.shape[0] - train_num)\n",
    "\n",
    "    train_eeg = eeg_random[0: train_num, :]\n",
    "    test_eeg = eeg_random[train_num: train_num + test_num,:]\n",
    "\n",
    "    train_noise = noise_random[0: train_num, :]\n",
    "    test_noise = noise_random[train_num: train_num+test_num, :]\n",
    "\n",
    "    EEG_train = random_signal(signal=train_eeg, comb=comb).reshape(comb * train_eeg.shape[0],t)\n",
    "    NOISE_train = random_signal(signal=train_noise, comb=comb).reshape(comb * train_noise.shape[0], t)\n",
    "\n",
    "    EEG_test = random_signal(signal=test_eeg, comb=comb).reshape(comb * test_eeg.shape[0],t)\n",
    "    NOISE_test = random_signal(signal=test_noise, comb=comb).reshape(comb * test_noise.shape[0], t)\n",
    "\n",
    "    print(f\"train data clean shape: {EEG_train.shape}\")\n",
    "    print(f\"train data noise shape: {NOISE_train.shape}\")\n",
    "\n",
    "    sn_train = []\n",
    "    eeg_train = []\n",
    "    all_sn_test = []\n",
    "    all_eeg_test = []\n",
    "\n",
    "    SNR_train_dB = np.random.uniform(-5.0, 5.0, (EEG_train.shape[0]))\n",
    "    print(SNR_train_dB.shape)\n",
    "    SNR_train = np.sqrt(10**(0.1*(SNR_train_dB)))\n",
    "\n",
    "\n",
    "    for i in range(EEG_train.shape[0]):\n",
    "        noise = preprocessing.scale(NOISE_train[i])\n",
    "        EEG = preprocessing.scale(EEG_train[i])\n",
    "\n",
    "        alpha = get_rms(EEG, 0) / (get_rms(noise, 0 ) * SNR_train[i])\n",
    "        noise *= alpha\n",
    "        signal_noise = EEG + noise\n",
    "\n",
    "        sn_train.append(signal_noise)\n",
    "        eeg_train.append(EEG)\n",
    "    \n",
    "    SNR_test_dB = np.linspace(-5.0, 5.0, num=(11))\n",
    "    SNR_test = np.sqrt(10 ** (0.1 * SNR_test_dB))\n",
    "\n",
    "    for i in range(11):\n",
    "        sn_test = []\n",
    "        eeg_test = []\n",
    "        for k in range(EEG_test.shape[0]):\n",
    "            noise = preprocessing.scale(NOISE_test[k])\n",
    "            EEG = preprocessing.scale(EEG_test[k])\n",
    "\n",
    "            alpha = get_rms(EEG,0) / (get_rms(noise, 0) * SNR_test[i])\n",
    "            noise *= alpha\n",
    "            signal_noise = EEG + noise\n",
    "\n",
    "            sn_test.append(signal_noise)\n",
    "            eeg_test.append(EEG)\n",
    "        \n",
    "        sn_test = np.array(sn_test)\n",
    "        eeg_test = np.array(eeg_test)\n",
    "\n",
    "        all_sn_test.append(sn_test)\n",
    "        all_eeg_test.append(eeg_test)\n",
    "    \n",
    "    X_train = np.array(sn_train)\n",
    "    y_train = np.array(eeg_train)\n",
    "\n",
    "    X_test = np.array(all_sn_test)\n",
    "    y_test = np.array(all_eeg_test)\n",
    "\n",
    "    X_train = np.expand_dims(X_train, axis=1)\n",
    "    y_train = np.expand_dims(y_train, axis=1)\n",
    "\n",
    "    X_test = np.expand_dims(X_test, axis=2)\n",
    "    y_test = np.expand_dims(y_test, axis=2)\n",
    "\n",
    "    print(X_train.shape, y_train.shape)\n",
    "    print(X_test.shape, y_test.shape)\n",
    "\n",
    "    return [X_train, y_train, X_test, y_test]"
   ]
  },
  {
   "cell_type": "code",
   "execution_count": 5,
   "id": "49fb2a58",
   "metadata": {},
   "outputs": [
    {
     "name": "stdout",
     "output_type": "stream",
     "text": [
      "Using device: cuda\n"
     ]
    }
   ],
   "source": [
    "device = \"cuda\" if torch.cuda.is_available() else \"cpu\"\n",
    "print(f\"Using device: {device}\")"
   ]
  },
  {
   "cell_type": "code",
   "execution_count": 6,
   "id": "46a8298e",
   "metadata": {},
   "outputs": [
    {
     "name": "stdout",
     "output_type": "stream",
     "text": [
      "EEG shape after crop and resuse to match EMG samples: 5598\n",
      "train data clean shape: (55418, 512)\n",
      "train data noise shape: (55418, 512)\n",
      "(55418,)\n",
      "(55418, 1, 512) (55418, 1, 512)\n",
      "(11, 6160, 1, 512) (11, 6160, 1, 512)\n"
     ]
    }
   ],
   "source": [
    "X_train, y_train, X_test, y_test = prepare_data(11)"
   ]
  },
  {
   "cell_type": "code",
   "execution_count": 7,
   "id": "f9c809ce",
   "metadata": {},
   "outputs": [],
   "source": [
    "X_train = X_train.astype(np.float32)\n",
    "y_train = y_train.astype(np.float32)"
   ]
  },
  {
   "cell_type": "code",
   "execution_count": 8,
   "id": "2ae71211",
   "metadata": {},
   "outputs": [
    {
     "data": {
      "text/plain": [
       "[<matplotlib.lines.Line2D at 0x767afce36f50>]"
      ]
     },
     "execution_count": 8,
     "metadata": {},
     "output_type": "execute_result"
    },
    {
     "data": {
      "image/png": "[encoded data removed]",
      "text/plain": [
       "<Figure size 640x480 with 1 Axes>"
      ]
     },
     "metadata": {},
     "output_type": "display_data"
    }
   ],
   "source": [
    "sig = y_train[0,0]\n",
    "plt.plot(sig)"
   ]
  },
  {
   "cell_type": "code",
   "execution_count": 9,
   "id": "78f1b8f6",
   "metadata": {},
   "outputs": [
    {
     "data": {
      "text/plain": [
       "[<matplotlib.lines.Line2D at 0x767af9b2ead0>]"
      ]
     },
     "execution_count": 9,
     "metadata": {},
     "output_type": "execute_result"
    },
    {
     "data": {
      "image/png": "[encoded data removed]",
      "text/plain": [
       "<Figure size 640x480 with 1 Axes>"
      ]
     },
     "metadata": {},
     "output_type": "display_data"
    }
   ],
   "source": [
    "mix = X_train[0,0]\n",
    "plt.plot(mix)"
   ]
  },
  {
   "cell_type": "code",
   "execution_count": 10,
   "id": "560b815e",
   "metadata": {},
   "outputs": [
    {
     "name": "stdout",
     "output_type": "stream",
     "text": [
      "SNR db ~ -1.1413627862930298\n"
     ]
    }
   ],
   "source": [
    "noise_estimate = mix - sig\n",
    "snr_lin = (np.mean(sig **2)) /( np.mean(noise_estimate **2))\n",
    "print('SNR db ~', 10 * np.log10(snr_lin))"
   ]
  },
  {
   "cell_type": "code",
   "execution_count": 11,
   "id": "68425e63",
   "metadata": {},
   "outputs": [
    {
     "data": {
      "text/plain": [
       "[<matplotlib.lines.Line2D at 0x767af9b84b10>]"
      ]
     },
     "execution_count": 11,
     "metadata": {},
     "output_type": "execute_result"
    },
    {
     "data": {
      "image/png": "[encoded data removed]",
      "text/plain": [
       "<Figure size 640x480 with 1 Axes>"
      ]
     },
     "metadata": {},
     "output_type": "display_data"
    }
   ],
   "source": [
    "a = X_test[0,0,0]\n",
    "plt.plot(a)"
   ]
  },
  {
   "cell_type": "code",
   "execution_count": 12,
   "id": "da5c160d",
   "metadata": {},
   "outputs": [
    {
     "data": {
      "text/plain": [
       "[<matplotlib.lines.Line2D at 0x767af9a42390>]"
      ]
     },
     "execution_count": 12,
     "metadata": {},
     "output_type": "execute_result"
    },
    {
     "data": {
      "image/png": "[encoded data removed]",
      "text/plain": [
       "<Figure size 640x480 with 1 Axes>"
      ]
     },
     "metadata": {},
     "output_type": "display_data"
    }
   ],
   "source": [
    "a = X_test[5,0,0]\n",
    "plt.plot(a)"
   ]
  },
  {
   "cell_type": "code",
   "execution_count": 13,
   "id": "5014a9aa",
   "metadata": {},
   "outputs": [
    {
     "name": "stdout",
     "output_type": "stream",
     "text": [
      "Using device: cuda\n"
     ]
    }
   ],
   "source": [
    "device = \"cuda\" if torch.cuda.is_available() else \"cpu\"\n",
    "print(f\"Using device: {device}\")"
   ]
  },
  {
   "cell_type": "code",
   "execution_count": 14,
   "id": "4490c491",
   "metadata": {},
   "outputs": [
    {
     "name": "stdout",
     "output_type": "stream",
     "text": [
      "<class 'torch.Tensor'> <class 'torch.Tensor'>\n"
     ]
    },
    {
     "data": {
      "text/plain": [
       "(tensor([[[ 0.8485, -0.2183, -0.6994,  ...,  2.0758,  0.8140, -0.2931]],\n",
       " \n",
       "         [[ 0.8836,  1.2386,  0.7559,  ...,  0.3059, -0.3472, -0.7805]],\n",
       " \n",
       "         [[-0.5464, -1.0586, -0.6443,  ..., -2.5201, -2.0737, -1.3206]],\n",
       " \n",
       "         ...,\n",
       " \n",
       "         [[-1.0176, -0.5559,  0.7991,  ..., -1.9977, -1.5243, -0.3854]],\n",
       " \n",
       "         [[ 0.4845,  0.8097,  1.8102,  ..., -2.7190, -3.3295, -3.9976]],\n",
       " \n",
       "         [[ 0.3658,  0.7945,  0.5707,  ...,  0.9390,  1.2051,  0.8676]]],\n",
       "        device='cuda:0'),\n",
       " tensor([[[-0.1897,  0.0378,  0.5809,  ...,  1.2490,  0.9209,  1.0563]],\n",
       " \n",
       "         [[ 0.7739,  1.1315,  0.7065,  ...,  0.3803,  0.0965, -0.8048]],\n",
       " \n",
       "         [[-0.0432,  0.2431,  0.4459,  ..., -1.6425, -1.7641, -1.7770]],\n",
       " \n",
       "         ...,\n",
       " \n",
       "         [[-0.3624, -0.7738, -0.4002,  ..., -1.5995, -1.2538, -0.9832]],\n",
       " \n",
       "         [[-1.1034, -1.5141, -0.6728,  ..., -1.6650, -2.6740, -2.7359]],\n",
       " \n",
       "         [[ 0.7582,  1.2142,  1.0463,  ...,  0.3466,  0.0216, -0.0837]]],\n",
       "        device='cuda:0'))"
      ]
     },
     "execution_count": 14,
     "metadata": {},
     "output_type": "execute_result"
    }
   ],
   "source": [
    "X_train, y_train = torch.from_numpy(X_train), torch.from_numpy(y_train)\n",
    "print(type(X_train), type(y_train))\n",
    "X_train.to(device), y_train.to(device)"
   ]
  },
  {
   "cell_type": "code",
   "execution_count": 15,
   "id": "ed7820f9",
   "metadata": {},
   "outputs": [],
   "source": [
    "# X_test, y_test = torch.from_numpy(X_test), torch.from_numpy(y_test)\n",
    "# print(type(X_test), type(y_test))"
   ]
  },
  {
   "cell_type": "code",
   "execution_count": 16,
   "id": "33112f83",
   "metadata": {},
   "outputs": [
    {
     "data": {
      "text/plain": [
       "<bound method Module.parameters of UNet1DModel(\n",
       "  (time_proj): GaussianFourierProjection()\n",
       "  (down_blocks): ModuleList(\n",
       "    (0): DownBlock1D(\n",
       "      (down): Downsample1d()\n",
       "      (resnets): ModuleList(\n",
       "        (0): ResConvBlock(\n",
       "          (conv_skip): Conv1d(2, 64, kernel_size=(1,), stride=(1,), bias=False)\n",
       "          (conv_1): Conv1d(2, 64, kernel_size=(5,), stride=(1,), padding=(2,))\n",
       "          (group_norm_1): GroupNorm(1, 64, eps=1e-05, affine=True)\n",
       "          (gelu_1): GELU(approximate='none')\n",
       "          (conv_2): Conv1d(64, 64, kernel_size=(5,), stride=(1,), padding=(2,))\n",
       "          (group_norm_2): GroupNorm(1, 64, eps=1e-05, affine=True)\n",
       "          (gelu_2): GELU(approximate='none')\n",
       "        )\n",
       "        (1-2): 2 x ResConvBlock(\n",
       "          (conv_1): Conv1d(64, 64, kernel_size=(5,), stride=(1,), padding=(2,))\n",
       "          (group_norm_1): GroupNorm(1, 64, eps=1e-05, affine=True)\n",
       "          (gelu_1): GELU(approximate='none')\n",
       "          (conv_2): Conv1d(64, 64, kernel_size=(5,), stride=(1,), padding=(2,))\n",
       "          (group_norm_2): GroupNorm(1, 64, eps=1e-05, affine=True)\n",
       "          (gelu_2): GELU(approximate='none')\n",
       "        )\n",
       "      )\n",
       "    )\n",
       "    (1): DownBlock1D(\n",
       "      (down): Downsample1d()\n",
       "      (resnets): ModuleList(\n",
       "        (0): ResConvBlock(\n",
       "          (conv_skip): Conv1d(64, 128, kernel_size=(1,), stride=(1,), bias=False)\n",
       "          (conv_1): Conv1d(64, 128, kernel_size=(5,), stride=(1,), padding=(2,))\n",
       "          (group_norm_1): GroupNorm(1, 128, eps=1e-05, affine=True)\n",
       "          (gelu_1): GELU(approximate='none')\n",
       "          (conv_2): Conv1d(128, 128, kernel_size=(5,), stride=(1,), padding=(2,))\n",
       "          (group_norm_2): GroupNorm(1, 128, eps=1e-05, affine=True)\n",
       "          (gelu_2): GELU(approximate='none')\n",
       "        )\n",
       "        (1-2): 2 x ResConvBlock(\n",
       "          (conv_1): Conv1d(128, 128, kernel_size=(5,), stride=(1,), padding=(2,))\n",
       "          (group_norm_1): GroupNorm(1, 128, eps=1e-05, affine=True)\n",
       "          (gelu_1): GELU(approximate='none')\n",
       "          (conv_2): Conv1d(128, 128, kernel_size=(5,), stride=(1,), padding=(2,))\n",
       "          (group_norm_2): GroupNorm(1, 128, eps=1e-05, affine=True)\n",
       "          (gelu_2): GELU(approximate='none')\n",
       "        )\n",
       "      )\n",
       "    )\n",
       "    (2): DownBlock1D(\n",
       "      (down): Downsample1d()\n",
       "      (resnets): ModuleList(\n",
       "        (0): ResConvBlock(\n",
       "          (conv_skip): Conv1d(128, 256, kernel_size=(1,), stride=(1,), bias=False)\n",
       "          (conv_1): Conv1d(128, 256, kernel_size=(5,), stride=(1,), padding=(2,))\n",
       "          (group_norm_1): GroupNorm(1, 256, eps=1e-05, affine=True)\n",
       "          (gelu_1): GELU(approximate='none')\n",
       "          (conv_2): Conv1d(256, 256, kernel_size=(5,), stride=(1,), padding=(2,))\n",
       "          (group_norm_2): GroupNorm(1, 256, eps=1e-05, affine=True)\n",
       "          (gelu_2): GELU(approximate='none')\n",
       "        )\n",
       "        (1-2): 2 x ResConvBlock(\n",
       "          (conv_1): Conv1d(256, 256, kernel_size=(5,), stride=(1,), padding=(2,))\n",
       "          (group_norm_1): GroupNorm(1, 256, eps=1e-05, affine=True)\n",
       "          (gelu_1): GELU(approximate='none')\n",
       "          (conv_2): Conv1d(256, 256, kernel_size=(5,), stride=(1,), padding=(2,))\n",
       "          (group_norm_2): GroupNorm(1, 256, eps=1e-05, affine=True)\n",
       "          (gelu_2): GELU(approximate='none')\n",
       "        )\n",
       "      )\n",
       "    )\n",
       "    (3): AttnDownBlock1D(\n",
       "      (down): Downsample1d()\n",
       "      (attentions): ModuleList(\n",
       "        (0-2): 3 x SelfAttention1d(\n",
       "          (group_norm): GroupNorm(1, 512, eps=1e-05, affine=True)\n",
       "          (query): Linear(in_features=512, out_features=512, bias=True)\n",
       "          (key): Linear(in_features=512, out_features=512, bias=True)\n",
       "          (value): Linear(in_features=512, out_features=512, bias=True)\n",
       "          (proj_attn): Linear(in_features=512, out_features=512, bias=True)\n",
       "          (dropout): Dropout(p=0.0, inplace=True)\n",
       "        )\n",
       "      )\n",
       "      (resnets): ModuleList(\n",
       "        (0): ResConvBlock(\n",
       "          (conv_skip): Conv1d(256, 512, kernel_size=(1,), stride=(1,), bias=False)\n",
       "          (conv_1): Conv1d(256, 512, kernel_size=(5,), stride=(1,), padding=(2,))\n",
       "          (group_norm_1): GroupNorm(1, 512, eps=1e-05, affine=True)\n",
       "          (gelu_1): GELU(approximate='none')\n",
       "          (conv_2): Conv1d(512, 512, kernel_size=(5,), stride=(1,), padding=(2,))\n",
       "          (group_norm_2): GroupNorm(1, 512, eps=1e-05, affine=True)\n",
       "          (gelu_2): GELU(approximate='none')\n",
       "        )\n",
       "        (1-2): 2 x ResConvBlock(\n",
       "          (conv_1): Conv1d(512, 512, kernel_size=(5,), stride=(1,), padding=(2,))\n",
       "          (group_norm_1): GroupNorm(1, 512, eps=1e-05, affine=True)\n",
       "          (gelu_1): GELU(approximate='none')\n",
       "          (conv_2): Conv1d(512, 512, kernel_size=(5,), stride=(1,), padding=(2,))\n",
       "          (group_norm_2): GroupNorm(1, 512, eps=1e-05, affine=True)\n",
       "          (gelu_2): GELU(approximate='none')\n",
       "        )\n",
       "      )\n",
       "    )\n",
       "    (4): DownBlock1D(\n",
       "      (down): Downsample1d()\n",
       "      (resnets): ModuleList(\n",
       "        (0-2): 3 x ResConvBlock(\n",
       "          (conv_1): Conv1d(512, 512, kernel_size=(5,), stride=(1,), padding=(2,))\n",
       "          (group_norm_1): GroupNorm(1, 512, eps=1e-05, affine=True)\n",
       "          (gelu_1): GELU(approximate='none')\n",
       "          (conv_2): Conv1d(512, 512, kernel_size=(5,), stride=(1,), padding=(2,))\n",
       "          (group_norm_2): GroupNorm(1, 512, eps=1e-05, affine=True)\n",
       "          (gelu_2): GELU(approximate='none')\n",
       "        )\n",
       "      )\n",
       "    )\n",
       "  )\n",
       "  (up_blocks): ModuleList(\n",
       "    (0): UpBlock1D(\n",
       "      (resnets): ModuleList(\n",
       "        (0): ResConvBlock(\n",
       "          (conv_skip): Conv1d(1024, 512, kernel_size=(1,), stride=(1,), bias=False)\n",
       "          (conv_1): Conv1d(1024, 512, kernel_size=(5,), stride=(1,), padding=(2,))\n",
       "          (group_norm_1): GroupNorm(1, 512, eps=1e-05, affine=True)\n",
       "          (gelu_1): GELU(approximate='none')\n",
       "          (conv_2): Conv1d(512, 512, kernel_size=(5,), stride=(1,), padding=(2,))\n",
       "          (group_norm_2): GroupNorm(1, 512, eps=1e-05, affine=True)\n",
       "          (gelu_2): GELU(approximate='none')\n",
       "        )\n",
       "        (1-2): 2 x ResConvBlock(\n",
       "          (conv_1): Conv1d(512, 512, kernel_size=(5,), stride=(1,), padding=(2,))\n",
       "          (group_norm_1): GroupNorm(1, 512, eps=1e-05, affine=True)\n",
       "          (gelu_1): GELU(approximate='none')\n",
       "          (conv_2): Conv1d(512, 512, kernel_size=(5,), stride=(1,), padding=(2,))\n",
       "          (group_norm_2): GroupNorm(1, 512, eps=1e-05, affine=True)\n",
       "          (gelu_2): GELU(approximate='none')\n",
       "        )\n",
       "      )\n",
       "      (up): Upsample1d()\n",
       "    )\n",
       "    (1): AttnUpBlock1D(\n",
       "      (attentions): ModuleList(\n",
       "        (0-2): 3 x SelfAttention1d(\n",
       "          (group_norm): GroupNorm(1, 256, eps=1e-05, affine=True)\n",
       "          (query): Linear(in_features=256, out_features=256, bias=True)\n",
       "          (key): Linear(in_features=256, out_features=256, bias=True)\n",
       "          (value): Linear(in_features=256, out_features=256, bias=True)\n",
       "          (proj_attn): Linear(in_features=256, out_features=256, bias=True)\n",
       "          (dropout): Dropout(p=0.0, inplace=True)\n",
       "        )\n",
       "      )\n",
       "      (resnets): ModuleList(\n",
       "        (0): ResConvBlock(\n",
       "          (conv_skip): Conv1d(1024, 256, kernel_size=(1,), stride=(1,), bias=False)\n",
       "          (conv_1): Conv1d(1024, 256, kernel_size=(5,), stride=(1,), padding=(2,))\n",
       "          (group_norm_1): GroupNorm(1, 256, eps=1e-05, affine=True)\n",
       "          (gelu_1): GELU(approximate='none')\n",
       "          (conv_2): Conv1d(256, 256, kernel_size=(5,), stride=(1,), padding=(2,))\n",
       "          (group_norm_2): GroupNorm(1, 256, eps=1e-05, affine=True)\n",
       "          (gelu_2): GELU(approximate='none')\n",
       "        )\n",
       "        (1-2): 2 x ResConvBlock(\n",
       "          (conv_1): Conv1d(256, 256, kernel_size=(5,), stride=(1,), padding=(2,))\n",
       "          (group_norm_1): GroupNorm(1, 256, eps=1e-05, affine=True)\n",
       "          (gelu_1): GELU(approximate='none')\n",
       "          (conv_2): Conv1d(256, 256, kernel_size=(5,), stride=(1,), padding=(2,))\n",
       "          (group_norm_2): GroupNorm(1, 256, eps=1e-05, affine=True)\n",
       "          (gelu_2): GELU(approximate='none')\n",
       "        )\n",
       "      )\n",
       "      (up): Upsample1d()\n",
       "    )\n",
       "    (2): UpBlock1D(\n",
       "      (resnets): ModuleList(\n",
       "        (0): ResConvBlock(\n",
       "          (conv_skip): Conv1d(512, 256, kernel_size=(1,), stride=(1,), bias=False)\n",
       "          (conv_1): Conv1d(512, 256, kernel_size=(5,), stride=(1,), padding=(2,))\n",
       "          (group_norm_1): GroupNorm(1, 256, eps=1e-05, affine=True)\n",
       "          (gelu_1): GELU(approximate='none')\n",
       "          (conv_2): Conv1d(256, 256, kernel_size=(5,), stride=(1,), padding=(2,))\n",
       "          (group_norm_2): GroupNorm(1, 256, eps=1e-05, affine=True)\n",
       "          (gelu_2): GELU(approximate='none')\n",
       "        )\n",
       "        (1): ResConvBlock(\n",
       "          (conv_1): Conv1d(256, 256, kernel_size=(5,), stride=(1,), padding=(2,))\n",
       "          (group_norm_1): GroupNorm(1, 256, eps=1e-05, affine=True)\n",
       "          (gelu_1): GELU(approximate='none')\n",
       "          (conv_2): Conv1d(256, 256, kernel_size=(5,), stride=(1,), padding=(2,))\n",
       "          (group_norm_2): GroupNorm(1, 256, eps=1e-05, affine=True)\n",
       "          (gelu_2): GELU(approximate='none')\n",
       "        )\n",
       "        (2): ResConvBlock(\n",
       "          (conv_skip): Conv1d(256, 128, kernel_size=(1,), stride=(1,), bias=False)\n",
       "          (conv_1): Conv1d(256, 256, kernel_size=(5,), stride=(1,), padding=(2,))\n",
       "          (group_norm_1): GroupNorm(1, 256, eps=1e-05, affine=True)\n",
       "          (gelu_1): GELU(approximate='none')\n",
       "          (conv_2): Conv1d(256, 128, kernel_size=(5,), stride=(1,), padding=(2,))\n",
       "          (group_norm_2): GroupNorm(1, 128, eps=1e-05, affine=True)\n",
       "          (gelu_2): GELU(approximate='none')\n",
       "        )\n",
       "      )\n",
       "      (up): Upsample1d()\n",
       "    )\n",
       "    (3): UpBlock1D(\n",
       "      (resnets): ModuleList(\n",
       "        (0): ResConvBlock(\n",
       "          (conv_skip): Conv1d(256, 128, kernel_size=(1,), stride=(1,), bias=False)\n",
       "          (conv_1): Conv1d(256, 128, kernel_size=(5,), stride=(1,), padding=(2,))\n",
       "          (group_norm_1): GroupNorm(1, 128, eps=1e-05, affine=True)\n",
       "          (gelu_1): GELU(approximate='none')\n",
       "          (conv_2): Conv1d(128, 128, kernel_size=(5,), stride=(1,), padding=(2,))\n",
       "          (group_norm_2): GroupNorm(1, 128, eps=1e-05, affine=True)\n",
       "          (gelu_2): GELU(approximate='none')\n",
       "        )\n",
       "        (1): ResConvBlock(\n",
       "          (conv_1): Conv1d(128, 128, kernel_size=(5,), stride=(1,), padding=(2,))\n",
       "          (group_norm_1): GroupNorm(1, 128, eps=1e-05, affine=True)\n",
       "          (gelu_1): GELU(approximate='none')\n",
       "          (conv_2): Conv1d(128, 128, kernel_size=(5,), stride=(1,), padding=(2,))\n",
       "          (group_norm_2): GroupNorm(1, 128, eps=1e-05, affine=True)\n",
       "          (gelu_2): GELU(approximate='none')\n",
       "        )\n",
       "        (2): ResConvBlock(\n",
       "          (conv_skip): Conv1d(128, 64, kernel_size=(1,), stride=(1,), bias=False)\n",
       "          (conv_1): Conv1d(128, 128, kernel_size=(5,), stride=(1,), padding=(2,))\n",
       "          (group_norm_1): GroupNorm(1, 128, eps=1e-05, affine=True)\n",
       "          (gelu_1): GELU(approximate='none')\n",
       "          (conv_2): Conv1d(128, 64, kernel_size=(5,), stride=(1,), padding=(2,))\n",
       "          (group_norm_2): GroupNorm(1, 64, eps=1e-05, affine=True)\n",
       "          (gelu_2): GELU(approximate='none')\n",
       "        )\n",
       "      )\n",
       "      (up): Upsample1d()\n",
       "    )\n",
       "    (4): UpBlock1D(\n",
       "      (resnets): ModuleList(\n",
       "        (0): ResConvBlock(\n",
       "          (conv_skip): Conv1d(128, 64, kernel_size=(1,), stride=(1,), bias=False)\n",
       "          (conv_1): Conv1d(128, 64, kernel_size=(5,), stride=(1,), padding=(2,))\n",
       "          (group_norm_1): GroupNorm(1, 64, eps=1e-05, affine=True)\n",
       "          (gelu_1): GELU(approximate='none')\n",
       "          (conv_2): Conv1d(64, 64, kernel_size=(5,), stride=(1,), padding=(2,))\n",
       "          (group_norm_2): GroupNorm(1, 64, eps=1e-05, affine=True)\n",
       "          (gelu_2): GELU(approximate='none')\n",
       "        )\n",
       "        (1): ResConvBlock(\n",
       "          (conv_1): Conv1d(64, 64, kernel_size=(5,), stride=(1,), padding=(2,))\n",
       "          (group_norm_1): GroupNorm(1, 64, eps=1e-05, affine=True)\n",
       "          (gelu_1): GELU(approximate='none')\n",
       "          (conv_2): Conv1d(64, 64, kernel_size=(5,), stride=(1,), padding=(2,))\n",
       "          (group_norm_2): GroupNorm(1, 64, eps=1e-05, affine=True)\n",
       "          (gelu_2): GELU(approximate='none')\n",
       "        )\n",
       "        (2): ResConvBlock(\n",
       "          (conv_skip): Conv1d(64, 1, kernel_size=(1,), stride=(1,), bias=False)\n",
       "          (conv_1): Conv1d(64, 64, kernel_size=(5,), stride=(1,), padding=(2,))\n",
       "          (group_norm_1): GroupNorm(1, 64, eps=1e-05, affine=True)\n",
       "          (gelu_1): GELU(approximate='none')\n",
       "          (conv_2): Conv1d(64, 1, kernel_size=(5,), stride=(1,), padding=(2,))\n",
       "          (group_norm_2): GroupNorm(1, 1, eps=1e-05, affine=True)\n",
       "          (gelu_2): GELU(approximate='none')\n",
       "        )\n",
       "      )\n",
       "      (up): Upsample1d()\n",
       "    )\n",
       "  )\n",
       "  (mid_block): UNetMidBlock1D(\n",
       "    (down): Downsample1d()\n",
       "    (up): Upsample1d()\n",
       "    (attentions): ModuleList(\n",
       "      (0-5): 6 x SelfAttention1d(\n",
       "        (group_norm): GroupNorm(1, 512, eps=1e-05, affine=True)\n",
       "        (query): Linear(in_features=512, out_features=512, bias=True)\n",
       "        (key): Linear(in_features=512, out_features=512, bias=True)\n",
       "        (value): Linear(in_features=512, out_features=512, bias=True)\n",
       "        (proj_attn): Linear(in_features=512, out_features=512, bias=True)\n",
       "        (dropout): Dropout(p=0.0, inplace=True)\n",
       "      )\n",
       "    )\n",
       "    (resnets): ModuleList(\n",
       "      (0-5): 6 x ResConvBlock(\n",
       "        (conv_1): Conv1d(512, 512, kernel_size=(5,), stride=(1,), padding=(2,))\n",
       "        (group_norm_1): GroupNorm(1, 512, eps=1e-05, affine=True)\n",
       "        (gelu_1): GELU(approximate='none')\n",
       "        (conv_2): Conv1d(512, 512, kernel_size=(5,), stride=(1,), padding=(2,))\n",
       "        (group_norm_2): GroupNorm(1, 512, eps=1e-05, affine=True)\n",
       "        (gelu_2): GELU(approximate='none')\n",
       "      )\n",
       "    )\n",
       "  )\n",
       ")>"
      ]
     },
     "execution_count": 16,
     "metadata": {},
     "output_type": "execute_result"
    }
   ],
   "source": [
    "model = UNet1DModel(\n",
    "    sample_size=512,\n",
    "    in_channels=2,\n",
    "    out_channels=1,\n",
    "    layers_per_block=3,\n",
    "    block_out_channels=(64,128,256,512,512),\n",
    "    down_block_types=(\n",
    "        \"DownBlock1D\",\n",
    "        \"DownBlock1D\",\n",
    "        \"DownBlock1D\",\n",
    "        \"AttnDownBlock1D\",\n",
    "        \"DownBlock1D\",\n",
    "    ),\n",
    "    up_block_types=(\n",
    "        \"UpBlock1D\",\n",
    "        \"AttnUpBlock1D\",\n",
    "        \"UpBlock1D\",\n",
    "        \"UpBlock1D\",\n",
    "        \"UpBlock1D\",\n",
    "    ),\n",
    ")\n",
    "model.to(device)\n",
    "model.parameters"
   ]
  },
  {
   "cell_type": "code",
   "execution_count": 17,
   "id": "3aa82d42",
   "metadata": {},
   "outputs": [],
   "source": [
    "train_scheduler = DDPMScheduler(num_train_timesteps=1000, beta_schedule=\"squaredcos_cap_v2\")\n",
    "inference_scheduler = DDIMScheduler(num_train_timesteps=1000,  beta_schedule=\"squaredcos_cap_v2\")\n",
    "optim = torch.optim.AdamW(model.parameters(), lr=1e-4)"
   ]
  },
  {
   "cell_type": "code",
   "execution_count": 18,
   "id": "0c7048d8",
   "metadata": {},
   "outputs": [],
   "source": [
    "# def forward_process(clean, mix):\n",
    "#     noise = torch.randn_like(clean)\n",
    "#     clean = clean.float()\n",
    "#     mix = mix.float()\n",
    "#     batch_size = clean.size(0)\n",
    "#     t = torch.randint(0, train_scheduler.config.num_train_timesteps, (batch_size,)).long()\n",
    "#     t = t.to(device)\n",
    "#     x_t = train_scheduler.add_noise(clean, noise, t)\n",
    "#     model_in = torch.cat([x_t, mix], dim=1)\n",
    "#     eps_pred = model(model_in, t).sample\n",
    "#     loss = F.mse_loss(eps_pred, noise)\n",
    "#     return loss.item()\n",
    "\n",
    "def forward_process(clean, mix):\n",
    "    noise = torch.randn_like(clean)\n",
    "    t = torch.randint(0, train_scheduler.config.num_train_timesteps, (clean.size(0),), device=clean.device).long()\n",
    "    x_t = train_scheduler.add_noise(clean.float(), noise, t)\n",
    "    eps_pred = model(torch.cat([x_t, mix.float()], dim=1), t).sample\n",
    "    return F.mse_loss(eps_pred, noise)"
   ]
  },
  {
   "cell_type": "code",
   "execution_count": 19,
   "id": "d32d063c",
   "metadata": {},
   "outputs": [],
   "source": [
    "from torch.nn.utils import clip_grad_norm_"
   ]
  },
  {
   "cell_type": "code",
   "execution_count": 20,
   "id": "c2db34a7",
   "metadata": {},
   "outputs": [],
   "source": [
    "def train_epoch(dataloader, epoch, scheduler=None, max_grad_norm=1.0):\n",
    "    model.train()\n",
    "    loss_sum = 0\n",
    "    progress_bar = tqdm(dataloader, desc=f\"Epoch {epoch}\")\n",
    "    for batch_idx, (X_noisy, y_clean) in enumerate(progress_bar):\n",
    "        X_noisy = X_noisy.to(device)\n",
    "        y_clean = y_clean.to(device)\n",
    "            \n",
    "        optim.zero_grad(set_to_none=True)\n",
    "        loss = forward_process(y_clean, X_noisy)\n",
    "        loss.backward()\n",
    "        clip_grad_norm_(model.parameters(), max_grad_norm) \n",
    "        optim.step()\n",
    "        if scheduler is not None:\n",
    "            scheduler.step()\n",
    "\n",
    "        loss_sum += loss.item()\n",
    "        progress_bar.set_postfix({'lr': f\"{optim.param_groups[0]['lr']:.2e}\",\n",
    "                                  'loss': f'{loss.item():.4f}'})\n",
    "    \n",
    "    avg_loss = loss_sum / len(dataloader)\n",
    "    return avg_loss"
   ]
  },
  {
   "cell_type": "code",
   "execution_count": 21,
   "id": "5b9face7",
   "metadata": {},
   "outputs": [],
   "source": [
    "@torch.no_grad()\n",
    "def reverse_process(mix, steps=50):\n",
    "    model.eval()\n",
    "    x = torch.randn_like(mix)\n",
    "    inference_scheduler.set_timesteps(steps)\n",
    "    for t in tqdm(inference_scheduler.timesteps, desc=\"Denoising EEG\", leave=False):\n",
    "        t = t.to(device)\n",
    "        model_in = torch.cat([x, mix], dim=1)\n",
    "        eps = model(model_in, t).sample\n",
    "        x = inference_scheduler.step(eps, t, x).prev_sample\n",
    "    \n",
    "    return x"
   ]
  },
  {
   "cell_type": "code",
   "execution_count": null,
   "id": "7f6f29aa",
   "metadata": {},
   "outputs": [],
   "source": [
    "@torch.no_grad()\n",
    "def reverse_process_img2img(mix, steps=50, strength=0.3):\n",
    "    model.eval()\n",
    "    inference_scheduler.set_timesteps(steps, device=mix.device)\n",
    "\n",
    "    start_idx = int((len(inference_scheduler.timesteps)-1) * strength)\n",
    "    start_idx = max(0, min(start_idx, len(inference_scheduler.timesteps)-1))\n",
    "    t_start = inference_scheduler.timesteps[start_idx]\n",
    "\n",
    "    noise = torch.randn_like(mix)\n",
    "    x = train_scheduler.add_noise(\n",
    "        mix, noise, torch.full((mix.size(0),), t_start.item(), device=mix.device, dtype=torch.long)\n",
    "    )\n",
    "\n",
    "    for t in inference_scheduler.timesteps[start_idx:]:\n",
    "        model_in = torch.cat([x, mix], dim=1)\n",
    "        eps = model(model_in, t).sample\n",
    "        x = inference_scheduler.step(eps, t, x).prev_sample\n",
    "\n",
    "    return x\n"
   ]
  },
  {
   "cell_type": "code",
   "execution_count": 23,
   "id": "29c0e99e",
   "metadata": {},
   "outputs": [],
   "source": [
    "def build_scheduler(dataloader, epochs, warmup_ratio=0.05):\n",
    "    total_steps = len(dataloader) * epochs\n",
    "    warmup_steps = max(1, int(total_steps * warmup_ratio))\n",
    "\n",
    "    warmup = torch.optim.lr_scheduler.LinearLR(\n",
    "        optim,\n",
    "        start_factor=1e-6,\n",
    "        end_factor=1.0,\n",
    "        total_iters=warmup_steps\n",
    "    )\n",
    "    cosine = torch.optim.lr_scheduler.CosineAnnealingLR(\n",
    "        optim, T_max=max(1, total_steps - warmup_steps)\n",
    "    )\n",
    "    return torch.optim.lr_scheduler.SequentialLR(\n",
    "        optim, schedulers=[warmup, cosine], milestones=[warmup_steps]\n",
    "    )\n"
   ]
  },
  {
   "cell_type": "code",
   "execution_count": 24,
   "id": "01cdfe12",
   "metadata": {},
   "outputs": [],
   "source": [
    "from torch.utils.data import TensorDataset\n",
    "\n",
    "def train_model(X_train, y_train, n=50, batch_size=128, warmup_ratio=0.05, max_grad_norm=1.0):\n",
    "    dataset = TensorDataset(X_train, y_train)\n",
    "    train_loader = DataLoader(\n",
    "        dataset,\n",
    "        batch_size=batch_size,\n",
    "        shuffle=True,\n",
    "        num_workers=4,\n",
    "        pin_memory=True\n",
    "    )\n",
    "\n",
    "    lr_scheduler = build_scheduler(train_loader, n, warmup_ratio)\n",
    "\n",
    "    best_loss = float('inf')\n",
    "    for e in range(n):\n",
    "        avg_loss = train_epoch(train_loader, epoch=e, scheduler=lr_scheduler, max_grad_norm=max_grad_norm)\n",
    "        print(f\"epoch {e+1}/{n} | Average Loss {avg_loss}\")\n",
    "        best_loss = min(best_loss, avg_loss)\n",
    "    print(f\"Best Loss: {best_loss}\")\n",
    "    return model"
   ]
  },
  {
   "cell_type": "code",
   "execution_count": 25,
   "id": "4683392b",
   "metadata": {},
   "outputs": [],
   "source": [
    "from sklearn.metrics import mean_squared_error\n",
    "from scipy.fftpack import fft"
   ]
  },
  {
   "cell_type": "code",
   "execution_count": 26,
   "id": "a8e9496b",
   "metadata": {},
   "outputs": [],
   "source": [
    "def SNR(y1, y2):\n",
    "    N = np.sum(np.square(y1), axis=1)\n",
    "    D = np.sum(np.square(y2-y1), axis=1)\n",
    "    SNR = 10 * np.log10(N/D)\n",
    "    return np.mean(SNR)\n",
    "\n",
    "def SNR_improvement(y_in, y_out, y_clean):\n",
    "    return SNR(y_clean, y_out) - SNR(y_clean, y_in)\n",
    "\n",
    "def RRMSE(denoised, clean):\n",
    "    denoised, clean = denoised.squeeze(), clean.squeeze()\n",
    "    rmse1 = np.sqrt(mean_squared_error(denoised, clean))\n",
    "    rmse2 = np.sqrt(mean_squared_error(clean, np.zeros(clean.shape, dtype=float)))\n",
    "\n",
    "    return rmse1/rmse2\n",
    "\n",
    "def get_PSD(records):\n",
    "    x_fft = fft(records, 400)\n",
    "    x_fft = np.abs(x_fft)\n",
    "    psd = x_fft ** 2 / 400\n",
    "    return psd\n",
    "\n",
    "def RRMSE_s(denoise, clean):\n",
    "    clean = clean.squeeze()\n",
    "    denoise = denoise.squeeze()\n",
    "    rmse1 = np.sqrt(mean_squared_error(get_PSD(denoise), get_PSD(clean)))\n",
    "    rmse2 = np.sqrt(mean_squared_error(get_PSD(clean), np.zeros(clean.shape, dtype=float)))\n",
    "    return rmse1/rmse2"
   ]
  },
  {
   "cell_type": "code",
   "execution_count": null,
   "id": "c9c3bbd5",
   "metadata": {},
   "outputs": [],
   "source": [
    "@torch.no_grad()\n",
    "def eval_model(X_test, y_test, snr, num_inference_steps=50):\n",
    "    res = {}\n",
    "    # s = X_test.shape[0]\n",
    "    # for s in range(X_test.shape[0]):\n",
    "    snr_db = -5 + snr\n",
    "    print(f\"Evaluating SNR noise level: {snr_db}\")\n",
    "\n",
    "    X_test_snr = X_test[snr]\n",
    "    y_test_snr = y_test[snr]\n",
    "\n",
    "    X_test_tensor = torch.FloatTensor(X_test_snr).to(device)\n",
    "\n",
    "    batch_size = 256\n",
    "    y_pred_list = []\n",
    "\n",
    "    for i in range(0, len(X_test_tensor), batch_size):\n",
    "        batch = X_test_tensor[i:i+batch_size]\n",
    "        # y_pred_batch = reverse_process(batch, num_inference_steps)\n",
    "        y_pred_batch = reverse_process_img2img(batch, num_inference_steps, strength=0.3)\n",
    "        y_pred_list.append(y_pred_batch.cpu().numpy())\n",
    "    \n",
    "    y_pred = np.concatenate(y_pred_list, axis=0)\n",
    "    \n",
    "    y_clean_2d = y_test_snr.squeeze(1)\n",
    "    y_noisy_2d = X_test_snr.squeeze(1)\n",
    "    y_pred_2d = y_pred.squeeze(1)\n",
    "\n",
    "    SNR_imp = SNR_improvement(y_noisy_2d, y_pred_2d, y_clean_2d)\n",
    "    rrmse_temp = np.mean([RRMSE(y_pred[i], y_test_snr[i]) for i in range(len(y_pred))])\n",
    "    # rrmse_spect = np.mean([RRMSE_s(y_pred[i], y_test_snr[i]) for i in range(len(y_pred))])\n",
    "    CC = np.corrcoef(y_test_snr.flatten(), y_pred.flatten())[0,1]\n",
    "\n",
    "    # res[s] = {\n",
    "    #     'snr_improvement': SNR_imp,\n",
    "    #     'rrmse_time': rrmse_temp,\n",
    "    #     # 'rrmse_freq': rrmse_spect,\n",
    "    #     'correlation': CC\n",
    "    # }\n",
    "    \n",
    "    print(f\"  SNR Improvement: {SNR_imp:.2f} dB\")\n",
    "    print(f\"  Temporal RRMSE: {rrmse_temp:.4f}\")\n",
    "    # print(f\"  Spectral RRMSE: {rrmse_spect:.4f}\")\n",
    "    print(f\"  Correlation Coeff: {CC:.4f}\")\n",
    "    "
   ]
  },
  {
   "cell_type": "code",
   "execution_count": 28,
   "id": "12e9f41a",
   "metadata": {},
   "outputs": [],
   "source": [
    "train_scheduler = DDPMScheduler(num_train_timesteps=1000, beta_schedule=\"squaredcos_cap_v2\")\n",
    "inference_scheduler = DDIMScheduler(num_train_timesteps=1000,  beta_schedule=\"squaredcos_cap_v2\")\n",
    "optim = torch.optim.AdamW(model.parameters(), lr=2e-4, weight_decay=1e-5)"
   ]
  },
  {
   "cell_type": "code",
   "execution_count": 29,
   "id": "4c335b5f",
   "metadata": {},
   "outputs": [],
   "source": [
    "# model = train_model(\n",
    "#     X_train=X_train[:128],\n",
    "#     y_train=y_train[:128],\n",
    "#     n=20,\n",
    "#     batch_size=128\n",
    "# )"
   ]
  },
  {
   "cell_type": "code",
   "execution_count": 30,
   "id": "91feaa27",
   "metadata": {},
   "outputs": [
    {
     "name": "stderr",
     "output_type": "stream",
     "text": [
      "Epoch 0: 100%|██████████| 109/109 [00:27<00:00,  3.97it/s, lr=2.00e-05, loss=0.7093]\n"
     ]
    },
    {
     "name": "stdout",
     "output_type": "stream",
     "text": [
      "epoch 1/200 | Average Loss 0.8721610028809363\n"
     ]
    },
    {
     "name": "stderr",
     "output_type": "stream",
     "text": [
      "Epoch 1: 100%|██████████| 109/109 [00:26<00:00,  4.17it/s, lr=4.00e-05, loss=0.7165]\n"
     ]
    },
    {
     "name": "stdout",
     "output_type": "stream",
     "text": [
      "epoch 2/200 | Average Loss 0.7069348736640511\n"
     ]
    },
    {
     "name": "stderr",
     "output_type": "stream",
     "text": [
      "Epoch 2: 100%|██████████| 109/109 [00:26<00:00,  4.14it/s, lr=6.00e-05, loss=0.6677]\n"
     ]
    },
    {
     "name": "stdout",
     "output_type": "stream",
     "text": [
      "epoch 3/200 | Average Loss 0.6902430926987885\n"
     ]
    },
    {
     "name": "stderr",
     "output_type": "stream",
     "text": [
      "Epoch 3: 100%|██████████| 109/109 [00:26<00:00,  4.09it/s, lr=8.00e-05, loss=0.6930]\n"
     ]
    },
    {
     "name": "stdout",
     "output_type": "stream",
     "text": [
      "epoch 4/200 | Average Loss 0.6796413796757339\n"
     ]
    },
    {
     "name": "stderr",
     "output_type": "stream",
     "text": [
      "Epoch 4: 100%|██████████| 109/109 [00:27<00:00,  4.02it/s, lr=1.00e-04, loss=0.6670]\n"
     ]
    },
    {
     "name": "stdout",
     "output_type": "stream",
     "text": [
      "epoch 5/200 | Average Loss 0.6751355709285911\n"
     ]
    },
    {
     "name": "stderr",
     "output_type": "stream",
     "text": [
      "Epoch 5: 100%|██████████| 109/109 [00:26<00:00,  4.13it/s, lr=1.20e-04, loss=0.6971]\n"
     ]
    },
    {
     "name": "stdout",
     "output_type": "stream",
     "text": [
      "epoch 6/200 | Average Loss 0.6706838241410912\n"
     ]
    },
    {
     "name": "stderr",
     "output_type": "stream",
     "text": [
      "Epoch 6: 100%|██████████| 109/109 [00:26<00:00,  4.14it/s, lr=1.40e-04, loss=0.6600]\n"
     ]
    },
    {
     "name": "stdout",
     "output_type": "stream",
     "text": [
      "epoch 7/200 | Average Loss 0.6656905937632289\n"
     ]
    },
    {
     "name": "stderr",
     "output_type": "stream",
     "text": [
      "Epoch 7: 100%|██████████| 109/109 [00:26<00:00,  4.14it/s, lr=1.60e-04, loss=0.6703]\n"
     ]
    },
    {
     "name": "stdout",
     "output_type": "stream",
     "text": [
      "epoch 8/200 | Average Loss 0.6608858786591696\n"
     ]
    },
    {
     "name": "stderr",
     "output_type": "stream",
     "text": [
      "Epoch 8: 100%|██████████| 109/109 [00:26<00:00,  4.13it/s, lr=1.80e-04, loss=0.6414]\n"
     ]
    },
    {
     "name": "stdout",
     "output_type": "stream",
     "text": [
      "epoch 9/200 | Average Loss 0.6621479233470532\n"
     ]
    },
    {
     "name": "stderr",
     "output_type": "stream",
     "text": [
      "Epoch 9: 100%|██████████| 109/109 [00:26<00:00,  4.14it/s, lr=2.00e-04, loss=0.6513]\n"
     ]
    },
    {
     "name": "stdout",
     "output_type": "stream",
     "text": [
      "epoch 10/200 | Average Loss 0.6595414975367555\n"
     ]
    },
    {
     "name": "stderr",
     "output_type": "stream",
     "text": [
      "Epoch 10: 100%|██████████| 109/109 [00:27<00:00,  4.00it/s, lr=2.00e-04, loss=0.6616]\n"
     ]
    },
    {
     "name": "stdout",
     "output_type": "stream",
     "text": [
      "epoch 11/200 | Average Loss 0.6565322241651903\n"
     ]
    },
    {
     "name": "stderr",
     "output_type": "stream",
     "text": [
      "Epoch 11: 100%|██████████| 109/109 [00:26<00:00,  4.14it/s, lr=2.00e-04, loss=0.6638]\n"
     ]
    },
    {
     "name": "stdout",
     "output_type": "stream",
     "text": [
      "epoch 12/200 | Average Loss 0.6550958369850018\n"
     ]
    },
    {
     "name": "stderr",
     "output_type": "stream",
     "text": [
      "Epoch 12: 100%|██████████| 109/109 [00:26<00:00,  4.13it/s, lr=2.00e-04, loss=0.6428]\n"
     ]
    },
    {
     "name": "stdout",
     "output_type": "stream",
     "text": [
      "epoch 13/200 | Average Loss 0.6555468024463829\n"
     ]
    },
    {
     "name": "stderr",
     "output_type": "stream",
     "text": [
      "Epoch 13: 100%|██████████| 109/109 [00:26<00:00,  4.14it/s, lr=2.00e-04, loss=0.6509]\n"
     ]
    },
    {
     "name": "stdout",
     "output_type": "stream",
     "text": [
      "epoch 14/200 | Average Loss 0.6538621613738733\n"
     ]
    },
    {
     "name": "stderr",
     "output_type": "stream",
     "text": [
      "Epoch 14: 100%|██████████| 109/109 [00:26<00:00,  4.15it/s, lr=2.00e-04, loss=0.6462]\n"
     ]
    },
    {
     "name": "stdout",
     "output_type": "stream",
     "text": [
      "epoch 15/200 | Average Loss 0.6536765158723253\n"
     ]
    },
    {
     "name": "stderr",
     "output_type": "stream",
     "text": [
      "Epoch 15: 100%|██████████| 109/109 [00:26<00:00,  4.15it/s, lr=2.00e-04, loss=0.6502]\n"
     ]
    },
    {
     "name": "stdout",
     "output_type": "stream",
     "text": [
      "epoch 16/200 | Average Loss 0.6541564087255285\n"
     ]
    },
    {
     "name": "stderr",
     "output_type": "stream",
     "text": [
      "Epoch 16: 100%|██████████| 109/109 [00:27<00:00,  4.02it/s, lr=1.99e-04, loss=0.6725]\n"
     ]
    },
    {
     "name": "stdout",
     "output_type": "stream",
     "text": [
      "epoch 17/200 | Average Loss 0.651755148664527\n"
     ]
    },
    {
     "name": "stderr",
     "output_type": "stream",
     "text": [
      "Epoch 17: 100%|██████████| 109/109 [00:26<00:00,  4.11it/s, lr=1.99e-04, loss=0.6278]\n"
     ]
    },
    {
     "name": "stdout",
     "output_type": "stream",
     "text": [
      "epoch 18/200 | Average Loss 0.6516664832010182\n"
     ]
    },
    {
     "name": "stderr",
     "output_type": "stream",
     "text": [
      "Epoch 18: 100%|██████████| 109/109 [00:26<00:00,  4.14it/s, lr=1.99e-04, loss=0.6508]\n"
     ]
    },
    {
     "name": "stdout",
     "output_type": "stream",
     "text": [
      "epoch 19/200 | Average Loss 0.6509879603298432\n"
     ]
    },
    {
     "name": "stderr",
     "output_type": "stream",
     "text": [
      "Epoch 19: 100%|██████████| 109/109 [00:26<00:00,  4.14it/s, lr=1.99e-04, loss=0.6568]\n"
     ]
    },
    {
     "name": "stdout",
     "output_type": "stream",
     "text": [
      "epoch 20/200 | Average Loss 0.6493427709701958\n"
     ]
    },
    {
     "name": "stderr",
     "output_type": "stream",
     "text": [
      "Epoch 20: 100%|██████████| 109/109 [00:26<00:00,  4.14it/s, lr=1.98e-04, loss=0.6547]\n"
     ]
    },
    {
     "name": "stdout",
     "output_type": "stream",
     "text": [
      "epoch 21/200 | Average Loss 0.647556745677913\n"
     ]
    },
    {
     "name": "stderr",
     "output_type": "stream",
     "text": [
      "Epoch 21: 100%|██████████| 109/109 [00:26<00:00,  4.14it/s, lr=1.98e-04, loss=0.6397]\n"
     ]
    },
    {
     "name": "stdout",
     "output_type": "stream",
     "text": [
      "epoch 22/200 | Average Loss 0.6471438582884063\n"
     ]
    },
    {
     "name": "stderr",
     "output_type": "stream",
     "text": [
      "Epoch 22: 100%|██████████| 109/109 [00:26<00:00,  4.14it/s, lr=1.98e-04, loss=0.6473]\n"
     ]
    },
    {
     "name": "stdout",
     "output_type": "stream",
     "text": [
      "epoch 23/200 | Average Loss 0.6440397107273067\n"
     ]
    },
    {
     "name": "stderr",
     "output_type": "stream",
     "text": [
      "Epoch 23: 100%|██████████| 109/109 [00:27<00:00,  4.01it/s, lr=1.97e-04, loss=0.6377]\n"
     ]
    },
    {
     "name": "stdout",
     "output_type": "stream",
     "text": [
      "epoch 24/200 | Average Loss 0.6418514470441625\n"
     ]
    },
    {
     "name": "stderr",
     "output_type": "stream",
     "text": [
      "Epoch 24: 100%|██████████| 109/109 [00:26<00:00,  4.14it/s, lr=1.97e-04, loss=0.6424]\n"
     ]
    },
    {
     "name": "stdout",
     "output_type": "stream",
     "text": [
      "epoch 25/200 | Average Loss 0.6376989642414478\n"
     ]
    },
    {
     "name": "stderr",
     "output_type": "stream",
     "text": [
      "Epoch 25: 100%|██████████| 109/109 [00:26<00:00,  4.15it/s, lr=1.97e-04, loss=0.6279]\n"
     ]
    },
    {
     "name": "stdout",
     "output_type": "stream",
     "text": [
      "epoch 26/200 | Average Loss 0.6366687203766009\n"
     ]
    },
    {
     "name": "stderr",
     "output_type": "stream",
     "text": [
      "Epoch 26: 100%|██████████| 109/109 [00:26<00:00,  4.15it/s, lr=1.96e-04, loss=0.5996]\n"
     ]
    },
    {
     "name": "stdout",
     "output_type": "stream",
     "text": [
      "epoch 27/200 | Average Loss 0.6320847896260953\n"
     ]
    },
    {
     "name": "stderr",
     "output_type": "stream",
     "text": [
      "Epoch 27: 100%|██████████| 109/109 [00:26<00:00,  4.16it/s, lr=1.96e-04, loss=0.6180]\n"
     ]
    },
    {
     "name": "stdout",
     "output_type": "stream",
     "text": [
      "epoch 28/200 | Average Loss 0.6263458952991241\n"
     ]
    },
    {
     "name": "stderr",
     "output_type": "stream",
     "text": [
      "Epoch 28: 100%|██████████| 109/109 [00:26<00:00,  4.12it/s, lr=1.95e-04, loss=0.6229]\n"
     ]
    },
    {
     "name": "stdout",
     "output_type": "stream",
     "text": [
      "epoch 29/200 | Average Loss 0.6219273904047975\n"
     ]
    },
    {
     "name": "stderr",
     "output_type": "stream",
     "text": [
      "Epoch 29: 100%|██████████| 109/109 [00:27<00:00,  4.01it/s, lr=1.95e-04, loss=0.6298]\n"
     ]
    },
    {
     "name": "stdout",
     "output_type": "stream",
     "text": [
      "epoch 30/200 | Average Loss 0.6173308584668221\n"
     ]
    },
    {
     "name": "stderr",
     "output_type": "stream",
     "text": [
      "Epoch 30: 100%|██████████| 109/109 [00:26<00:00,  4.14it/s, lr=1.94e-04, loss=0.6139]\n"
     ]
    },
    {
     "name": "stdout",
     "output_type": "stream",
     "text": [
      "epoch 31/200 | Average Loss 0.6127631533036538\n"
     ]
    },
    {
     "name": "stderr",
     "output_type": "stream",
     "text": [
      "Epoch 31: 100%|██████████| 109/109 [00:25<00:00,  4.20it/s, lr=1.93e-04, loss=0.6214]\n"
     ]
    },
    {
     "name": "stdout",
     "output_type": "stream",
     "text": [
      "epoch 32/200 | Average Loss 0.6085507590836341\n"
     ]
    },
    {
     "name": "stderr",
     "output_type": "stream",
     "text": [
      "Epoch 32: 100%|██████████| 109/109 [00:27<00:00,  3.98it/s, lr=1.93e-04, loss=0.6284]\n"
     ]
    },
    {
     "name": "stdout",
     "output_type": "stream",
     "text": [
      "epoch 33/200 | Average Loss 0.6039227733918286\n"
     ]
    },
    {
     "name": "stderr",
     "output_type": "stream",
     "text": [
      "Epoch 33: 100%|██████████| 109/109 [00:26<00:00,  4.12it/s, lr=1.92e-04, loss=0.6061]\n"
     ]
    },
    {
     "name": "stdout",
     "output_type": "stream",
     "text": [
      "epoch 34/200 | Average Loss 0.5997855876563886\n"
     ]
    },
    {
     "name": "stderr",
     "output_type": "stream",
     "text": [
      "Epoch 34: 100%|██████████| 109/109 [00:26<00:00,  4.14it/s, lr=1.92e-04, loss=0.5944]\n"
     ]
    },
    {
     "name": "stdout",
     "output_type": "stream",
     "text": [
      "epoch 35/200 | Average Loss 0.5935445892701455\n"
     ]
    },
    {
     "name": "stderr",
     "output_type": "stream",
     "text": [
      "Epoch 35: 100%|██████████| 109/109 [00:26<00:00,  4.14it/s, lr=1.91e-04, loss=0.6011]\n"
     ]
    },
    {
     "name": "stdout",
     "output_type": "stream",
     "text": [
      "epoch 36/200 | Average Loss 0.5907062767842494\n"
     ]
    },
    {
     "name": "stderr",
     "output_type": "stream",
     "text": [
      "Epoch 36: 100%|██████████| 109/109 [00:26<00:00,  4.14it/s, lr=1.90e-04, loss=0.5928]\n"
     ]
    },
    {
     "name": "stdout",
     "output_type": "stream",
     "text": [
      "epoch 37/200 | Average Loss 0.587043723928819\n"
     ]
    },
    {
     "name": "stderr",
     "output_type": "stream",
     "text": [
      "Epoch 37: 100%|██████████| 109/109 [00:26<00:00,  4.14it/s, lr=1.89e-04, loss=0.5744]\n"
     ]
    },
    {
     "name": "stdout",
     "output_type": "stream",
     "text": [
      "epoch 38/200 | Average Loss 0.5818856003087595\n"
     ]
    },
    {
     "name": "stderr",
     "output_type": "stream",
     "text": [
      "Epoch 38: 100%|██████████| 109/109 [00:27<00:00,  4.00it/s, lr=1.89e-04, loss=0.5756]\n"
     ]
    },
    {
     "name": "stdout",
     "output_type": "stream",
     "text": [
      "epoch 39/200 | Average Loss 0.5786065710793942\n"
     ]
    },
    {
     "name": "stderr",
     "output_type": "stream",
     "text": [
      "Epoch 39: 100%|██████████| 109/109 [00:26<00:00,  4.14it/s, lr=1.88e-04, loss=0.5646]\n"
     ]
    },
    {
     "name": "stdout",
     "output_type": "stream",
     "text": [
      "epoch 40/200 | Average Loss 0.5756449940007761\n"
     ]
    },
    {
     "name": "stderr",
     "output_type": "stream",
     "text": [
      "Epoch 40: 100%|██████████| 109/109 [00:26<00:00,  4.15it/s, lr=1.87e-04, loss=0.5769]\n"
     ]
    },
    {
     "name": "stdout",
     "output_type": "stream",
     "text": [
      "epoch 41/200 | Average Loss 0.5731977803991475\n"
     ]
    },
    {
     "name": "stderr",
     "output_type": "stream",
     "text": [
      "Epoch 41: 100%|██████████| 109/109 [00:26<00:00,  4.14it/s, lr=1.86e-04, loss=0.5745]\n"
     ]
    },
    {
     "name": "stdout",
     "output_type": "stream",
     "text": [
      "epoch 42/200 | Average Loss 0.5698686920174765\n"
     ]
    },
    {
     "name": "stderr",
     "output_type": "stream",
     "text": [
      "Epoch 42: 100%|██████████| 109/109 [00:26<00:00,  4.13it/s, lr=1.85e-04, loss=0.5414]\n"
     ]
    },
    {
     "name": "stdout",
     "output_type": "stream",
     "text": [
      "epoch 43/200 | Average Loss 0.567848383833509\n"
     ]
    },
    {
     "name": "stderr",
     "output_type": "stream",
     "text": [
      "Epoch 43: 100%|██████████| 109/109 [00:26<00:00,  4.14it/s, lr=1.85e-04, loss=0.5785]\n"
     ]
    },
    {
     "name": "stdout",
     "output_type": "stream",
     "text": [
      "epoch 44/200 | Average Loss 0.5656500557147035\n"
     ]
    },
    {
     "name": "stderr",
     "output_type": "stream",
     "text": [
      "Epoch 44: 100%|██████████| 109/109 [00:26<00:00,  4.14it/s, lr=1.84e-04, loss=0.5647]\n"
     ]
    },
    {
     "name": "stdout",
     "output_type": "stream",
     "text": [
      "epoch 45/200 | Average Loss 0.5644357636434223\n"
     ]
    },
    {
     "name": "stderr",
     "output_type": "stream",
     "text": [
      "Epoch 45: 100%|██████████| 109/109 [00:27<00:00,  4.00it/s, lr=1.83e-04, loss=0.5547]\n"
     ]
    },
    {
     "name": "stdout",
     "output_type": "stream",
     "text": [
      "epoch 46/200 | Average Loss 0.561866933052693\n"
     ]
    },
    {
     "name": "stderr",
     "output_type": "stream",
     "text": [
      "Epoch 46: 100%|██████████| 109/109 [00:26<00:00,  4.14it/s, lr=1.82e-04, loss=0.5493]\n"
     ]
    },
    {
     "name": "stdout",
     "output_type": "stream",
     "text": [
      "epoch 47/200 | Average Loss 0.5593761774378085\n"
     ]
    },
    {
     "name": "stderr",
     "output_type": "stream",
     "text": [
      "Epoch 47: 100%|██████████| 109/109 [00:26<00:00,  4.06it/s, lr=1.81e-04, loss=0.5939]\n"
     ]
    },
    {
     "name": "stdout",
     "output_type": "stream",
     "text": [
      "epoch 48/200 | Average Loss 0.5589886630347015\n"
     ]
    },
    {
     "name": "stderr",
     "output_type": "stream",
     "text": [
      "Epoch 48: 100%|██████████| 109/109 [00:26<00:00,  4.14it/s, lr=1.80e-04, loss=0.5400]\n"
     ]
    },
    {
     "name": "stdout",
     "output_type": "stream",
     "text": [
      "epoch 49/200 | Average Loss 0.557843782486172\n"
     ]
    },
    {
     "name": "stderr",
     "output_type": "stream",
     "text": [
      "Epoch 49: 100%|██████████| 109/109 [00:26<00:00,  4.14it/s, lr=1.79e-04, loss=0.5521]\n"
     ]
    },
    {
     "name": "stdout",
     "output_type": "stream",
     "text": [
      "epoch 50/200 | Average Loss 0.5563776296213132\n"
     ]
    },
    {
     "name": "stderr",
     "output_type": "stream",
     "text": [
      "Epoch 50: 100%|██████████| 109/109 [00:26<00:00,  4.14it/s, lr=1.78e-04, loss=0.5569]\n"
     ]
    },
    {
     "name": "stdout",
     "output_type": "stream",
     "text": [
      "epoch 51/200 | Average Loss 0.5538053195410912\n"
     ]
    },
    {
     "name": "stderr",
     "output_type": "stream",
     "text": [
      "Epoch 51: 100%|██████████| 109/109 [00:27<00:00,  3.99it/s, lr=1.77e-04, loss=0.5475]\n"
     ]
    },
    {
     "name": "stdout",
     "output_type": "stream",
     "text": [
      "epoch 52/200 | Average Loss 0.5530704106759587\n"
     ]
    },
    {
     "name": "stderr",
     "output_type": "stream",
     "text": [
      "Epoch 52: 100%|██████████| 109/109 [00:26<00:00,  4.14it/s, lr=1.76e-04, loss=0.5406]\n"
     ]
    },
    {
     "name": "stdout",
     "output_type": "stream",
     "text": [
      "epoch 53/200 | Average Loss 0.5525618556442611\n"
     ]
    },
    {
     "name": "stderr",
     "output_type": "stream",
     "text": [
      "Epoch 53: 100%|██████████| 109/109 [00:26<00:00,  4.16it/s, lr=1.75e-04, loss=0.5592]\n"
     ]
    },
    {
     "name": "stdout",
     "output_type": "stream",
     "text": [
      "epoch 54/200 | Average Loss 0.5514768969028367\n"
     ]
    },
    {
     "name": "stderr",
     "output_type": "stream",
     "text": [
      "Epoch 54: 100%|██████████| 109/109 [00:26<00:00,  4.12it/s, lr=1.74e-04, loss=0.5484]\n"
     ]
    },
    {
     "name": "stdout",
     "output_type": "stream",
     "text": [
      "epoch 55/200 | Average Loss 0.5503278451228361\n"
     ]
    },
    {
     "name": "stderr",
     "output_type": "stream",
     "text": [
      "Epoch 55: 100%|██████████| 109/109 [00:26<00:00,  4.12it/s, lr=1.72e-04, loss=0.5531]\n"
     ]
    },
    {
     "name": "stdout",
     "output_type": "stream",
     "text": [
      "epoch 56/200 | Average Loss 0.5500713471972615\n"
     ]
    },
    {
     "name": "stderr",
     "output_type": "stream",
     "text": [
      "Epoch 56: 100%|██████████| 109/109 [00:26<00:00,  4.11it/s, lr=1.71e-04, loss=0.5406]\n"
     ]
    },
    {
     "name": "stdout",
     "output_type": "stream",
     "text": [
      "epoch 57/200 | Average Loss 0.548828923374141\n"
     ]
    },
    {
     "name": "stderr",
     "output_type": "stream",
     "text": [
      "Epoch 57: 100%|██████████| 109/109 [00:27<00:00,  4.01it/s, lr=1.70e-04, loss=0.5471]\n"
     ]
    },
    {
     "name": "stdout",
     "output_type": "stream",
     "text": [
      "epoch 58/200 | Average Loss 0.5481389268822626\n"
     ]
    },
    {
     "name": "stderr",
     "output_type": "stream",
     "text": [
      "Epoch 58: 100%|██████████| 109/109 [00:26<00:00,  4.15it/s, lr=1.69e-04, loss=0.5405]\n"
     ]
    },
    {
     "name": "stdout",
     "output_type": "stream",
     "text": [
      "epoch 59/200 | Average Loss 0.5475622284303018\n"
     ]
    },
    {
     "name": "stderr",
     "output_type": "stream",
     "text": [
      "Epoch 59: 100%|██████████| 109/109 [00:26<00:00,  4.15it/s, lr=1.68e-04, loss=0.5427]\n"
     ]
    },
    {
     "name": "stdout",
     "output_type": "stream",
     "text": [
      "epoch 60/200 | Average Loss 0.5465237984963514\n"
     ]
    },
    {
     "name": "stderr",
     "output_type": "stream",
     "text": [
      "Epoch 60: 100%|██████████| 109/109 [00:26<00:00,  4.12it/s, lr=1.67e-04, loss=0.5472]\n"
     ]
    },
    {
     "name": "stdout",
     "output_type": "stream",
     "text": [
      "epoch 61/200 | Average Loss 0.5457000737890191\n"
     ]
    },
    {
     "name": "stderr",
     "output_type": "stream",
     "text": [
      "Epoch 61: 100%|██████████| 109/109 [00:27<00:00,  3.96it/s, lr=1.65e-04, loss=0.5446]\n"
     ]
    },
    {
     "name": "stdout",
     "output_type": "stream",
     "text": [
      "epoch 62/200 | Average Loss 0.54523035200364\n"
     ]
    },
    {
     "name": "stderr",
     "output_type": "stream",
     "text": [
      "Epoch 62: 100%|██████████| 109/109 [00:25<00:00,  4.22it/s, lr=1.64e-04, loss=0.5550]\n"
     ]
    },
    {
     "name": "stdout",
     "output_type": "stream",
     "text": [
      "epoch 63/200 | Average Loss 0.5438723662577638\n"
     ]
    },
    {
     "name": "stderr",
     "output_type": "stream",
     "text": [
      "Epoch 63: 100%|██████████| 109/109 [00:26<00:00,  4.11it/s, lr=1.63e-04, loss=0.5483]\n"
     ]
    },
    {
     "name": "stdout",
     "output_type": "stream",
     "text": [
      "epoch 64/200 | Average Loss 0.5444064260622777\n"
     ]
    },
    {
     "name": "stderr",
     "output_type": "stream",
     "text": [
      "Epoch 64: 100%|██████████| 109/109 [00:26<00:00,  4.14it/s, lr=1.61e-04, loss=0.5397]\n"
     ]
    },
    {
     "name": "stdout",
     "output_type": "stream",
     "text": [
      "epoch 65/200 | Average Loss 0.5441617243880525\n"
     ]
    },
    {
     "name": "stderr",
     "output_type": "stream",
     "text": [
      "Epoch 65: 100%|██████████| 109/109 [00:26<00:00,  4.15it/s, lr=1.60e-04, loss=0.5379]\n"
     ]
    },
    {
     "name": "stdout",
     "output_type": "stream",
     "text": [
      "epoch 66/200 | Average Loss 0.5424751382355296\n"
     ]
    },
    {
     "name": "stderr",
     "output_type": "stream",
     "text": [
      "Epoch 66: 100%|██████████| 109/109 [00:26<00:00,  4.13it/s, lr=1.59e-04, loss=0.5458]\n"
     ]
    },
    {
     "name": "stdout",
     "output_type": "stream",
     "text": [
      "epoch 67/200 | Average Loss 0.5422419079946815\n"
     ]
    },
    {
     "name": "stderr",
     "output_type": "stream",
     "text": [
      "Epoch 67: 100%|██████████| 109/109 [00:27<00:00,  4.00it/s, lr=1.57e-04, loss=0.5124]\n"
     ]
    },
    {
     "name": "stdout",
     "output_type": "stream",
     "text": [
      "epoch 68/200 | Average Loss 0.5412927187910868\n"
     ]
    },
    {
     "name": "stderr",
     "output_type": "stream",
     "text": [
      "Epoch 68: 100%|██████████| 109/109 [00:26<00:00,  4.13it/s, lr=1.56e-04, loss=0.5497]\n"
     ]
    },
    {
     "name": "stdout",
     "output_type": "stream",
     "text": [
      "epoch 69/200 | Average Loss 0.5401003027181013\n"
     ]
    },
    {
     "name": "stderr",
     "output_type": "stream",
     "text": [
      "Epoch 69: 100%|██████████| 109/109 [00:26<00:00,  4.14it/s, lr=1.55e-04, loss=0.5388]\n"
     ]
    },
    {
     "name": "stdout",
     "output_type": "stream",
     "text": [
      "epoch 70/200 | Average Loss 0.5406298008533793\n"
     ]
    },
    {
     "name": "stderr",
     "output_type": "stream",
     "text": [
      "Epoch 70: 100%|██████████| 109/109 [00:26<00:00,  4.14it/s, lr=1.53e-04, loss=0.5422]\n"
     ]
    },
    {
     "name": "stdout",
     "output_type": "stream",
     "text": [
      "epoch 71/200 | Average Loss 0.5401548393275759\n"
     ]
    },
    {
     "name": "stderr",
     "output_type": "stream",
     "text": [
      "Epoch 71: 100%|██████████| 109/109 [00:26<00:00,  4.14it/s, lr=1.52e-04, loss=0.5477]\n"
     ]
    },
    {
     "name": "stdout",
     "output_type": "stream",
     "text": [
      "epoch 72/200 | Average Loss 0.5394031788231036\n"
     ]
    },
    {
     "name": "stderr",
     "output_type": "stream",
     "text": [
      "Epoch 72: 100%|██████████| 109/109 [00:26<00:00,  4.14it/s, lr=1.50e-04, loss=0.5387]\n"
     ]
    },
    {
     "name": "stdout",
     "output_type": "stream",
     "text": [
      "epoch 73/200 | Average Loss 0.5399207122828982\n"
     ]
    },
    {
     "name": "stderr",
     "output_type": "stream",
     "text": [
      "Epoch 73: 100%|██████████| 109/109 [00:27<00:00,  3.98it/s, lr=1.49e-04, loss=0.5312]\n"
     ]
    },
    {
     "name": "stdout",
     "output_type": "stream",
     "text": [
      "epoch 74/200 | Average Loss 0.5390993236401759\n"
     ]
    },
    {
     "name": "stderr",
     "output_type": "stream",
     "text": [
      "Epoch 74: 100%|██████████| 109/109 [00:26<00:00,  4.17it/s, lr=1.48e-04, loss=0.5297]\n"
     ]
    },
    {
     "name": "stdout",
     "output_type": "stream",
     "text": [
      "epoch 75/200 | Average Loss 0.5389808192165619\n"
     ]
    },
    {
     "name": "stderr",
     "output_type": "stream",
     "text": [
      "Epoch 75: 100%|██████████| 109/109 [00:26<00:00,  4.14it/s, lr=1.46e-04, loss=0.5370]\n"
     ]
    },
    {
     "name": "stdout",
     "output_type": "stream",
     "text": [
      "epoch 76/200 | Average Loss 0.5381384234909617\n"
     ]
    },
    {
     "name": "stderr",
     "output_type": "stream",
     "text": [
      "Epoch 76: 100%|██████████| 109/109 [00:26<00:00,  4.11it/s, lr=1.45e-04, loss=0.5467]\n"
     ]
    },
    {
     "name": "stdout",
     "output_type": "stream",
     "text": [
      "epoch 77/200 | Average Loss 0.5383112047790387\n"
     ]
    },
    {
     "name": "stderr",
     "output_type": "stream",
     "text": [
      "Epoch 77: 100%|██████████| 109/109 [00:26<00:00,  4.14it/s, lr=1.43e-04, loss=0.5322]\n"
     ]
    },
    {
     "name": "stdout",
     "output_type": "stream",
     "text": [
      "epoch 78/200 | Average Loss 0.5371378966427724\n"
     ]
    },
    {
     "name": "stderr",
     "output_type": "stream",
     "text": [
      "Epoch 78: 100%|██████████| 109/109 [00:26<00:00,  4.11it/s, lr=1.42e-04, loss=0.5465]\n"
     ]
    },
    {
     "name": "stdout",
     "output_type": "stream",
     "text": [
      "epoch 79/200 | Average Loss 0.5364454508921422\n"
     ]
    },
    {
     "name": "stderr",
     "output_type": "stream",
     "text": [
      "Epoch 79: 100%|██████████| 109/109 [00:26<00:00,  4.14it/s, lr=1.40e-04, loss=0.5306]\n"
     ]
    },
    {
     "name": "stdout",
     "output_type": "stream",
     "text": [
      "epoch 80/200 | Average Loss 0.5359849377509651\n"
     ]
    },
    {
     "name": "stderr",
     "output_type": "stream",
     "text": [
      "Epoch 80: 100%|██████████| 109/109 [00:27<00:00,  4.00it/s, lr=1.39e-04, loss=0.5381]\n"
     ]
    },
    {
     "name": "stdout",
     "output_type": "stream",
     "text": [
      "epoch 81/200 | Average Loss 0.5368948688200854\n"
     ]
    },
    {
     "name": "stderr",
     "output_type": "stream",
     "text": [
      "Epoch 81: 100%|██████████| 109/109 [00:26<00:00,  4.13it/s, lr=1.37e-04, loss=0.5244]\n"
     ]
    },
    {
     "name": "stdout",
     "output_type": "stream",
     "text": [
      "epoch 82/200 | Average Loss 0.5354074201452623\n"
     ]
    },
    {
     "name": "stderr",
     "output_type": "stream",
     "text": [
      "Epoch 82: 100%|██████████| 109/109 [00:26<00:00,  4.14it/s, lr=1.36e-04, loss=0.5385]\n"
     ]
    },
    {
     "name": "stdout",
     "output_type": "stream",
     "text": [
      "epoch 83/200 | Average Loss 0.5354097141038388\n"
     ]
    },
    {
     "name": "stderr",
     "output_type": "stream",
     "text": [
      "Epoch 83: 100%|██████████| 109/109 [00:26<00:00,  4.14it/s, lr=1.34e-04, loss=0.5327]\n"
     ]
    },
    {
     "name": "stdout",
     "output_type": "stream",
     "text": [
      "epoch 84/200 | Average Loss 0.535002113482274\n"
     ]
    },
    {
     "name": "stderr",
     "output_type": "stream",
     "text": [
      "Epoch 84: 100%|██████████| 109/109 [00:26<00:00,  4.13it/s, lr=1.32e-04, loss=0.5230]\n"
     ]
    },
    {
     "name": "stdout",
     "output_type": "stream",
     "text": [
      "epoch 85/200 | Average Loss 0.5339391247941814\n"
     ]
    },
    {
     "name": "stderr",
     "output_type": "stream",
     "text": [
      "Epoch 85: 100%|██████████| 109/109 [00:26<00:00,  4.14it/s, lr=1.31e-04, loss=0.5370]\n"
     ]
    },
    {
     "name": "stdout",
     "output_type": "stream",
     "text": [
      "epoch 86/200 | Average Loss 0.5331727906104622\n"
     ]
    },
    {
     "name": "stderr",
     "output_type": "stream",
     "text": [
      "Epoch 86: 100%|██████████| 109/109 [00:27<00:00,  3.99it/s, lr=1.29e-04, loss=0.5311]\n"
     ]
    },
    {
     "name": "stdout",
     "output_type": "stream",
     "text": [
      "epoch 87/200 | Average Loss 0.5334445052190658\n"
     ]
    },
    {
     "name": "stderr",
     "output_type": "stream",
     "text": [
      "Epoch 87: 100%|██████████| 109/109 [00:26<00:00,  4.14it/s, lr=1.28e-04, loss=0.5278]\n"
     ]
    },
    {
     "name": "stdout",
     "output_type": "stream",
     "text": [
      "epoch 88/200 | Average Loss 0.5330694558423593\n"
     ]
    },
    {
     "name": "stderr",
     "output_type": "stream",
     "text": [
      "Epoch 88: 100%|██████████| 109/109 [00:26<00:00,  4.16it/s, lr=1.26e-04, loss=0.5334]\n"
     ]
    },
    {
     "name": "stdout",
     "output_type": "stream",
     "text": [
      "epoch 89/200 | Average Loss 0.5332621434412965\n"
     ]
    },
    {
     "name": "stderr",
     "output_type": "stream",
     "text": [
      "Epoch 89: 100%|██████████| 109/109 [00:26<00:00,  4.14it/s, lr=1.25e-04, loss=0.5317]\n"
     ]
    },
    {
     "name": "stdout",
     "output_type": "stream",
     "text": [
      "epoch 90/200 | Average Loss 0.5321887436263059\n"
     ]
    },
    {
     "name": "stderr",
     "output_type": "stream",
     "text": [
      "Epoch 90: 100%|██████████| 109/109 [00:26<00:00,  4.13it/s, lr=1.23e-04, loss=0.5330]\n"
     ]
    },
    {
     "name": "stdout",
     "output_type": "stream",
     "text": [
      "epoch 91/200 | Average Loss 0.5329591785002192\n"
     ]
    },
    {
     "name": "stderr",
     "output_type": "stream",
     "text": [
      "Epoch 91: 100%|██████████| 109/109 [00:26<00:00,  4.12it/s, lr=1.21e-04, loss=0.5235]\n"
     ]
    },
    {
     "name": "stdout",
     "output_type": "stream",
     "text": [
      "epoch 92/200 | Average Loss 0.5318795983944464\n"
     ]
    },
    {
     "name": "stderr",
     "output_type": "stream",
     "text": [
      "Epoch 92: 100%|██████████| 109/109 [00:27<00:00,  3.99it/s, lr=1.20e-04, loss=0.5298]\n"
     ]
    },
    {
     "name": "stdout",
     "output_type": "stream",
     "text": [
      "epoch 93/200 | Average Loss 0.5315086043209111\n"
     ]
    },
    {
     "name": "stderr",
     "output_type": "stream",
     "text": [
      "Epoch 93: 100%|██████████| 109/109 [00:26<00:00,  4.16it/s, lr=1.18e-04, loss=0.5271]\n"
     ]
    },
    {
     "name": "stdout",
     "output_type": "stream",
     "text": [
      "epoch 94/200 | Average Loss 0.5312451703832783\n"
     ]
    },
    {
     "name": "stderr",
     "output_type": "stream",
     "text": [
      "Epoch 94: 100%|██████████| 109/109 [00:26<00:00,  4.12it/s, lr=1.16e-04, loss=0.5325]\n"
     ]
    },
    {
     "name": "stdout",
     "output_type": "stream",
     "text": [
      "epoch 95/200 | Average Loss 0.5310537093276277\n"
     ]
    },
    {
     "name": "stderr",
     "output_type": "stream",
     "text": [
      "Epoch 95: 100%|██████████| 109/109 [00:26<00:00,  4.15it/s, lr=1.15e-04, loss=0.5344]\n"
     ]
    },
    {
     "name": "stdout",
     "output_type": "stream",
     "text": [
      "epoch 96/200 | Average Loss 0.5311579649601508\n"
     ]
    },
    {
     "name": "stderr",
     "output_type": "stream",
     "text": [
      "Epoch 96: 100%|██████████| 109/109 [00:26<00:00,  4.13it/s, lr=1.13e-04, loss=0.5293]\n"
     ]
    },
    {
     "name": "stdout",
     "output_type": "stream",
     "text": [
      "epoch 97/200 | Average Loss 0.5304578198205441\n"
     ]
    },
    {
     "name": "stderr",
     "output_type": "stream",
     "text": [
      "Epoch 97: 100%|██████████| 109/109 [00:27<00:00,  4.00it/s, lr=1.12e-04, loss=0.5261]\n"
     ]
    },
    {
     "name": "stdout",
     "output_type": "stream",
     "text": [
      "epoch 98/200 | Average Loss 0.529762478049742\n"
     ]
    },
    {
     "name": "stderr",
     "output_type": "stream",
     "text": [
      "Epoch 98: 100%|██████████| 109/109 [00:25<00:00,  4.21it/s, lr=1.10e-04, loss=0.5416]\n"
     ]
    },
    {
     "name": "stdout",
     "output_type": "stream",
     "text": [
      "epoch 99/200 | Average Loss 0.5294529330839804\n"
     ]
    },
    {
     "name": "stderr",
     "output_type": "stream",
     "text": [
      "Epoch 99: 100%|██████████| 109/109 [00:26<00:00,  4.15it/s, lr=1.08e-04, loss=0.5365]\n"
     ]
    },
    {
     "name": "stdout",
     "output_type": "stream",
     "text": [
      "epoch 100/200 | Average Loss 0.5293828166952921\n"
     ]
    },
    {
     "name": "stderr",
     "output_type": "stream",
     "text": [
      "Epoch 100: 100%|██████████| 109/109 [00:26<00:00,  4.13it/s, lr=1.07e-04, loss=0.5281]\n"
     ]
    },
    {
     "name": "stdout",
     "output_type": "stream",
     "text": [
      "epoch 101/200 | Average Loss 0.529215323815652\n"
     ]
    },
    {
     "name": "stderr",
     "output_type": "stream",
     "text": [
      "Epoch 101: 100%|██████████| 109/109 [00:26<00:00,  4.14it/s, lr=1.05e-04, loss=0.5461]\n"
     ]
    },
    {
     "name": "stdout",
     "output_type": "stream",
     "text": [
      "epoch 102/200 | Average Loss 0.5291939700415375\n"
     ]
    },
    {
     "name": "stderr",
     "output_type": "stream",
     "text": [
      "Epoch 102: 100%|██████████| 109/109 [00:27<00:00,  4.00it/s, lr=1.03e-04, loss=0.5237]\n"
     ]
    },
    {
     "name": "stdout",
     "output_type": "stream",
     "text": [
      "epoch 103/200 | Average Loss 0.5288940908711984\n"
     ]
    },
    {
     "name": "stderr",
     "output_type": "stream",
     "text": [
      "Epoch 103: 100%|██████████| 109/109 [00:26<00:00,  4.13it/s, lr=1.02e-04, loss=0.5226]\n"
     ]
    },
    {
     "name": "stdout",
     "output_type": "stream",
     "text": [
      "epoch 104/200 | Average Loss 0.5280582161124693\n"
     ]
    },
    {
     "name": "stderr",
     "output_type": "stream",
     "text": [
      "Epoch 104: 100%|██████████| 109/109 [00:26<00:00,  4.14it/s, lr=1.00e-04, loss=0.5219]\n"
     ]
    },
    {
     "name": "stdout",
     "output_type": "stream",
     "text": [
      "epoch 105/200 | Average Loss 0.5276102500224332\n"
     ]
    },
    {
     "name": "stderr",
     "output_type": "stream",
     "text": [
      "Epoch 105: 100%|██████████| 109/109 [00:26<00:00,  4.12it/s, lr=9.83e-05, loss=0.5211]\n"
     ]
    },
    {
     "name": "stdout",
     "output_type": "stream",
     "text": [
      "epoch 106/200 | Average Loss 0.5275538465298644\n"
     ]
    },
    {
     "name": "stderr",
     "output_type": "stream",
     "text": [
      "Epoch 106: 100%|██████████| 109/109 [00:26<00:00,  4.15it/s, lr=9.67e-05, loss=0.5219]\n"
     ]
    },
    {
     "name": "stdout",
     "output_type": "stream",
     "text": [
      "epoch 107/200 | Average Loss 0.5268793800555238\n"
     ]
    },
    {
     "name": "stderr",
     "output_type": "stream",
     "text": [
      "Epoch 107: 100%|██████████| 109/109 [00:26<00:00,  4.14it/s, lr=9.50e-05, loss=0.5273]\n"
     ]
    },
    {
     "name": "stdout",
     "output_type": "stream",
     "text": [
      "epoch 108/200 | Average Loss 0.5265109385919133\n"
     ]
    },
    {
     "name": "stderr",
     "output_type": "stream",
     "text": [
      "Epoch 108: 100%|██████████| 109/109 [00:26<00:00,  4.15it/s, lr=9.34e-05, loss=0.5158]\n"
     ]
    },
    {
     "name": "stdout",
     "output_type": "stream",
     "text": [
      "epoch 109/200 | Average Loss 0.5261894759781863\n"
     ]
    },
    {
     "name": "stderr",
     "output_type": "stream",
     "text": [
      "Epoch 109: 100%|██████████| 109/109 [00:27<00:00,  4.00it/s, lr=9.17e-05, loss=0.5216]\n"
     ]
    },
    {
     "name": "stdout",
     "output_type": "stream",
     "text": [
      "epoch 110/200 | Average Loss 0.5258355955465124\n"
     ]
    },
    {
     "name": "stderr",
     "output_type": "stream",
     "text": [
      "Epoch 110: 100%|██████████| 109/109 [00:26<00:00,  4.14it/s, lr=9.01e-05, loss=0.5232]\n"
     ]
    },
    {
     "name": "stdout",
     "output_type": "stream",
     "text": [
      "epoch 111/200 | Average Loss 0.5262831520596776\n"
     ]
    },
    {
     "name": "stderr",
     "output_type": "stream",
     "text": [
      "Epoch 111: 100%|██████████| 109/109 [00:26<00:00,  4.13it/s, lr=8.85e-05, loss=0.5097]\n"
     ]
    },
    {
     "name": "stdout",
     "output_type": "stream",
     "text": [
      "epoch 112/200 | Average Loss 0.5254286046421855\n"
     ]
    },
    {
     "name": "stderr",
     "output_type": "stream",
     "text": [
      "Epoch 112: 100%|██████████| 109/109 [00:26<00:00,  4.14it/s, lr=8.68e-05, loss=0.5234]\n"
     ]
    },
    {
     "name": "stdout",
     "output_type": "stream",
     "text": [
      "epoch 113/200 | Average Loss 0.5254250354723099\n"
     ]
    },
    {
     "name": "stderr",
     "output_type": "stream",
     "text": [
      "Epoch 113: 100%|██████████| 109/109 [00:26<00:00,  4.14it/s, lr=8.52e-05, loss=0.5189]\n"
     ]
    },
    {
     "name": "stdout",
     "output_type": "stream",
     "text": [
      "epoch 114/200 | Average Loss 0.5248143771372804\n"
     ]
    },
    {
     "name": "stderr",
     "output_type": "stream",
     "text": [
      "Epoch 114: 100%|██████████| 109/109 [00:26<00:00,  4.14it/s, lr=8.35e-05, loss=0.5217]\n"
     ]
    },
    {
     "name": "stdout",
     "output_type": "stream",
     "text": [
      "epoch 115/200 | Average Loss 0.5246763043447372\n"
     ]
    },
    {
     "name": "stderr",
     "output_type": "stream",
     "text": [
      "Epoch 115: 100%|██████████| 109/109 [00:27<00:00,  3.99it/s, lr=8.19e-05, loss=0.5240]\n"
     ]
    },
    {
     "name": "stdout",
     "output_type": "stream",
     "text": [
      "epoch 116/200 | Average Loss 0.5239984825116779\n"
     ]
    },
    {
     "name": "stderr",
     "output_type": "stream",
     "text": [
      "Epoch 116: 100%|██████████| 109/109 [00:26<00:00,  4.14it/s, lr=8.03e-05, loss=0.5157]\n"
     ]
    },
    {
     "name": "stdout",
     "output_type": "stream",
     "text": [
      "epoch 117/200 | Average Loss 0.523534400200625\n"
     ]
    },
    {
     "name": "stderr",
     "output_type": "stream",
     "text": [
      "Epoch 117: 100%|██████████| 109/109 [00:26<00:00,  4.15it/s, lr=7.87e-05, loss=0.5276]\n"
     ]
    },
    {
     "name": "stdout",
     "output_type": "stream",
     "text": [
      "epoch 118/200 | Average Loss 0.5235460619314001\n"
     ]
    },
    {
     "name": "stderr",
     "output_type": "stream",
     "text": [
      "Epoch 118: 100%|██████████| 109/109 [00:26<00:00,  4.13it/s, lr=7.71e-05, loss=0.5196]\n"
     ]
    },
    {
     "name": "stdout",
     "output_type": "stream",
     "text": [
      "epoch 119/200 | Average Loss 0.523947280481321\n"
     ]
    },
    {
     "name": "stderr",
     "output_type": "stream",
     "text": [
      "Epoch 119: 100%|██████████| 109/109 [00:26<00:00,  4.14it/s, lr=7.55e-05, loss=0.5247]\n"
     ]
    },
    {
     "name": "stdout",
     "output_type": "stream",
     "text": [
      "epoch 120/200 | Average Loss 0.5233927024613827\n"
     ]
    },
    {
     "name": "stderr",
     "output_type": "stream",
     "text": [
      "Epoch 120: 100%|██████████| 109/109 [00:26<00:00,  4.11it/s, lr=7.39e-05, loss=0.5202]\n"
     ]
    },
    {
     "name": "stdout",
     "output_type": "stream",
     "text": [
      "epoch 121/200 | Average Loss 0.5226593881572058\n"
     ]
    },
    {
     "name": "stderr",
     "output_type": "stream",
     "text": [
      "Epoch 121: 100%|██████████| 109/109 [00:27<00:00,  4.00it/s, lr=7.23e-05, loss=0.5250]\n"
     ]
    },
    {
     "name": "stdout",
     "output_type": "stream",
     "text": [
      "epoch 122/200 | Average Loss 0.5229839277923654\n"
     ]
    },
    {
     "name": "stderr",
     "output_type": "stream",
     "text": [
      "Epoch 122: 100%|██████████| 109/109 [00:26<00:00,  4.14it/s, lr=7.07e-05, loss=0.5262]\n"
     ]
    },
    {
     "name": "stdout",
     "output_type": "stream",
     "text": [
      "epoch 123/200 | Average Loss 0.5227316103943991\n"
     ]
    },
    {
     "name": "stderr",
     "output_type": "stream",
     "text": [
      "Epoch 123: 100%|██████████| 109/109 [00:26<00:00,  4.15it/s, lr=6.91e-05, loss=0.5218]\n"
     ]
    },
    {
     "name": "stdout",
     "output_type": "stream",
     "text": [
      "epoch 124/200 | Average Loss 0.5220051992923842\n"
     ]
    },
    {
     "name": "stderr",
     "output_type": "stream",
     "text": [
      "Epoch 124: 100%|██████████| 109/109 [00:26<00:00,  4.15it/s, lr=6.75e-05, loss=0.5192]\n"
     ]
    },
    {
     "name": "stdout",
     "output_type": "stream",
     "text": [
      "epoch 125/200 | Average Loss 0.522251416783814\n"
     ]
    },
    {
     "name": "stderr",
     "output_type": "stream",
     "text": [
      "Epoch 125: 100%|██████████| 109/109 [00:26<00:00,  4.14it/s, lr=6.60e-05, loss=0.5243]\n"
     ]
    },
    {
     "name": "stdout",
     "output_type": "stream",
     "text": [
      "epoch 126/200 | Average Loss 0.521215304322199\n"
     ]
    },
    {
     "name": "stderr",
     "output_type": "stream",
     "text": [
      "Epoch 126: 100%|██████████| 109/109 [00:27<00:00,  3.99it/s, lr=6.44e-05, loss=0.5287]\n"
     ]
    },
    {
     "name": "stdout",
     "output_type": "stream",
     "text": [
      "epoch 127/200 | Average Loss 0.5213623834312509\n"
     ]
    },
    {
     "name": "stderr",
     "output_type": "stream",
     "text": [
      "Epoch 127: 100%|██████████| 109/109 [00:25<00:00,  4.21it/s, lr=6.29e-05, loss=0.5099]\n"
     ]
    },
    {
     "name": "stdout",
     "output_type": "stream",
     "text": [
      "epoch 128/200 | Average Loss 0.5207754149349457\n"
     ]
    },
    {
     "name": "stderr",
     "output_type": "stream",
     "text": [
      "Epoch 128: 100%|██████████| 109/109 [00:27<00:00,  4.00it/s, lr=6.14e-05, loss=0.5092]\n"
     ]
    },
    {
     "name": "stdout",
     "output_type": "stream",
     "text": [
      "epoch 129/200 | Average Loss 0.5204811932843759\n"
     ]
    },
    {
     "name": "stderr",
     "output_type": "stream",
     "text": [
      "Epoch 129: 100%|██████████| 109/109 [00:25<00:00,  4.33it/s, lr=5.98e-05, loss=0.5163]\n"
     ]
    },
    {
     "name": "stdout",
     "output_type": "stream",
     "text": [
      "epoch 130/200 | Average Loss 0.5207764834438989\n"
     ]
    },
    {
     "name": "stderr",
     "output_type": "stream",
     "text": [
      "Epoch 130: 100%|██████████| 109/109 [00:26<00:00,  4.08it/s, lr=5.83e-05, loss=0.5133]\n"
     ]
    },
    {
     "name": "stdout",
     "output_type": "stream",
     "text": [
      "epoch 131/200 | Average Loss 0.5203129753060297\n"
     ]
    },
    {
     "name": "stderr",
     "output_type": "stream",
     "text": [
      "Epoch 131: 100%|██████████| 109/109 [00:26<00:00,  4.07it/s, lr=5.68e-05, loss=0.5135]\n"
     ]
    },
    {
     "name": "stdout",
     "output_type": "stream",
     "text": [
      "epoch 132/200 | Average Loss 0.5196062299089694\n"
     ]
    },
    {
     "name": "stderr",
     "output_type": "stream",
     "text": [
      "Epoch 132: 100%|██████████| 109/109 [00:26<00:00,  4.07it/s, lr=5.53e-05, loss=0.5158]\n"
     ]
    },
    {
     "name": "stdout",
     "output_type": "stream",
     "text": [
      "epoch 133/200 | Average Loss 0.5205188945892754\n"
     ]
    },
    {
     "name": "stderr",
     "output_type": "stream",
     "text": [
      "Epoch 133: 100%|██████████| 109/109 [00:26<00:00,  4.19it/s, lr=5.39e-05, loss=0.5253]\n"
     ]
    },
    {
     "name": "stdout",
     "output_type": "stream",
     "text": [
      "epoch 134/200 | Average Loss 0.5191357168582601\n"
     ]
    },
    {
     "name": "stderr",
     "output_type": "stream",
     "text": [
      "Epoch 134: 100%|██████████| 109/109 [00:26<00:00,  4.07it/s, lr=5.24e-05, loss=0.5148]\n"
     ]
    },
    {
     "name": "stdout",
     "output_type": "stream",
     "text": [
      "epoch 135/200 | Average Loss 0.5190534930710399\n"
     ]
    },
    {
     "name": "stderr",
     "output_type": "stream",
     "text": [
      "Epoch 135: 100%|██████████| 109/109 [00:26<00:00,  4.18it/s, lr=5.10e-05, loss=0.5182]\n"
     ]
    },
    {
     "name": "stdout",
     "output_type": "stream",
     "text": [
      "epoch 136/200 | Average Loss 0.5187972587182981\n"
     ]
    },
    {
     "name": "stderr",
     "output_type": "stream",
     "text": [
      "Epoch 136: 100%|██████████| 109/109 [00:27<00:00,  4.02it/s, lr=4.95e-05, loss=0.5213]\n"
     ]
    },
    {
     "name": "stdout",
     "output_type": "stream",
     "text": [
      "epoch 137/200 | Average Loss 0.5188096477351057\n"
     ]
    },
    {
     "name": "stderr",
     "output_type": "stream",
     "text": [
      "Epoch 137: 100%|██████████| 109/109 [00:26<00:00,  4.10it/s, lr=4.81e-05, loss=0.5197]\n"
     ]
    },
    {
     "name": "stdout",
     "output_type": "stream",
     "text": [
      "epoch 138/200 | Average Loss 0.5182842382597267\n"
     ]
    },
    {
     "name": "stderr",
     "output_type": "stream",
     "text": [
      "Epoch 138: 100%|██████████| 109/109 [00:26<00:00,  4.15it/s, lr=4.67e-05, loss=0.5216]\n"
     ]
    },
    {
     "name": "stdout",
     "output_type": "stream",
     "text": [
      "epoch 139/200 | Average Loss 0.5179057186896648\n"
     ]
    },
    {
     "name": "stderr",
     "output_type": "stream",
     "text": [
      "Epoch 139: 100%|██████████| 109/109 [00:26<00:00,  4.14it/s, lr=4.53e-05, loss=0.5146]\n"
     ]
    },
    {
     "name": "stdout",
     "output_type": "stream",
     "text": [
      "epoch 140/200 | Average Loss 0.517897796193394\n"
     ]
    },
    {
     "name": "stderr",
     "output_type": "stream",
     "text": [
      "Epoch 140: 100%|██████████| 109/109 [00:26<00:00,  4.18it/s, lr=4.39e-05, loss=0.5230]\n"
     ]
    },
    {
     "name": "stdout",
     "output_type": "stream",
     "text": [
      "epoch 141/200 | Average Loss 0.5180213916192361\n"
     ]
    },
    {
     "name": "stderr",
     "output_type": "stream",
     "text": [
      "Epoch 141: 100%|██████████| 109/109 [00:26<00:00,  4.11it/s, lr=4.26e-05, loss=0.5138]\n"
     ]
    },
    {
     "name": "stdout",
     "output_type": "stream",
     "text": [
      "epoch 142/200 | Average Loss 0.517872789037337\n"
     ]
    },
    {
     "name": "stderr",
     "output_type": "stream",
     "text": [
      "Epoch 142: 100%|██████████| 109/109 [00:27<00:00,  4.00it/s, lr=4.12e-05, loss=0.5253]\n"
     ]
    },
    {
     "name": "stdout",
     "output_type": "stream",
     "text": [
      "epoch 143/200 | Average Loss 0.5172946491372694\n"
     ]
    },
    {
     "name": "stderr",
     "output_type": "stream",
     "text": [
      "Epoch 143: 100%|██████████| 109/109 [00:26<00:00,  4.12it/s, lr=3.99e-05, loss=0.5173]\n"
     ]
    },
    {
     "name": "stdout",
     "output_type": "stream",
     "text": [
      "epoch 144/200 | Average Loss 0.5169565497188393\n"
     ]
    },
    {
     "name": "stderr",
     "output_type": "stream",
     "text": [
      "Epoch 144: 100%|██████████| 109/109 [00:26<00:00,  4.12it/s, lr=3.86e-05, loss=0.5311]\n"
     ]
    },
    {
     "name": "stdout",
     "output_type": "stream",
     "text": [
      "epoch 145/200 | Average Loss 0.5165178294575542\n"
     ]
    },
    {
     "name": "stderr",
     "output_type": "stream",
     "text": [
      "Epoch 145: 100%|██████████| 109/109 [00:26<00:00,  4.13it/s, lr=3.73e-05, loss=0.5232]\n"
     ]
    },
    {
     "name": "stdout",
     "output_type": "stream",
     "text": [
      "epoch 146/200 | Average Loss 0.5167699051559518\n"
     ]
    },
    {
     "name": "stderr",
     "output_type": "stream",
     "text": [
      "Epoch 146: 100%|██████████| 109/109 [00:26<00:00,  4.15it/s, lr=3.60e-05, loss=0.5211]\n"
     ]
    },
    {
     "name": "stdout",
     "output_type": "stream",
     "text": [
      "epoch 147/200 | Average Loss 0.5160868457697947\n"
     ]
    },
    {
     "name": "stderr",
     "output_type": "stream",
     "text": [
      "Epoch 147: 100%|██████████| 109/109 [00:26<00:00,  4.14it/s, lr=3.47e-05, loss=0.5213]\n"
     ]
    },
    {
     "name": "stdout",
     "output_type": "stream",
     "text": [
      "epoch 148/200 | Average Loss 0.5155763199569983\n"
     ]
    },
    {
     "name": "stderr",
     "output_type": "stream",
     "text": [
      "Epoch 148: 100%|██████████| 109/109 [00:27<00:00,  4.02it/s, lr=3.35e-05, loss=0.5154]\n"
     ]
    },
    {
     "name": "stdout",
     "output_type": "stream",
     "text": [
      "epoch 149/200 | Average Loss 0.5147608830294478\n"
     ]
    },
    {
     "name": "stderr",
     "output_type": "stream",
     "text": [
      "Epoch 149: 100%|██████████| 109/109 [00:26<00:00,  4.16it/s, lr=3.23e-05, loss=0.5145]\n"
     ]
    },
    {
     "name": "stdout",
     "output_type": "stream",
     "text": [
      "epoch 150/200 | Average Loss 0.5150509345422097\n"
     ]
    },
    {
     "name": "stderr",
     "output_type": "stream",
     "text": [
      "Epoch 150: 100%|██████████| 109/109 [00:26<00:00,  4.13it/s, lr=3.11e-05, loss=0.5052]\n"
     ]
    },
    {
     "name": "stdout",
     "output_type": "stream",
     "text": [
      "epoch 151/200 | Average Loss 0.5150330608044196\n"
     ]
    },
    {
     "name": "stderr",
     "output_type": "stream",
     "text": [
      "Epoch 151: 100%|██████████| 109/109 [00:26<00:00,  4.14it/s, lr=2.99e-05, loss=0.5082]\n"
     ]
    },
    {
     "name": "stdout",
     "output_type": "stream",
     "text": [
      "epoch 152/200 | Average Loss 0.5144228114994294\n"
     ]
    },
    {
     "name": "stderr",
     "output_type": "stream",
     "text": [
      "Epoch 152: 100%|██████████| 109/109 [00:27<00:00,  4.01it/s, lr=2.87e-05, loss=0.5158]\n"
     ]
    },
    {
     "name": "stdout",
     "output_type": "stream",
     "text": [
      "epoch 153/200 | Average Loss 0.5143630477266574\n"
     ]
    },
    {
     "name": "stderr",
     "output_type": "stream",
     "text": [
      "Epoch 153: 100%|██████████| 109/109 [00:26<00:00,  4.14it/s, lr=2.76e-05, loss=0.5124]\n"
     ]
    },
    {
     "name": "stdout",
     "output_type": "stream",
     "text": [
      "epoch 154/200 | Average Loss 0.5143159644319377\n"
     ]
    },
    {
     "name": "stderr",
     "output_type": "stream",
     "text": [
      "Epoch 154: 100%|██████████| 109/109 [00:26<00:00,  4.13it/s, lr=2.64e-05, loss=0.5254]\n"
     ]
    },
    {
     "name": "stdout",
     "output_type": "stream",
     "text": [
      "epoch 155/200 | Average Loss 0.5140610720039508\n"
     ]
    },
    {
     "name": "stderr",
     "output_type": "stream",
     "text": [
      "Epoch 155: 100%|██████████| 109/109 [00:26<00:00,  4.14it/s, lr=2.53e-05, loss=0.5125]\n"
     ]
    },
    {
     "name": "stdout",
     "output_type": "stream",
     "text": [
      "epoch 156/200 | Average Loss 0.5140196336518734\n"
     ]
    },
    {
     "name": "stderr",
     "output_type": "stream",
     "text": [
      "Epoch 156: 100%|██████████| 109/109 [00:26<00:00,  4.14it/s, lr=2.42e-05, loss=0.5137]\n"
     ]
    },
    {
     "name": "stdout",
     "output_type": "stream",
     "text": [
      "epoch 157/200 | Average Loss 0.513514944719612\n"
     ]
    },
    {
     "name": "stderr",
     "output_type": "stream",
     "text": [
      "Epoch 157: 100%|██████████| 109/109 [00:26<00:00,  4.13it/s, lr=2.32e-05, loss=0.5202]\n"
     ]
    },
    {
     "name": "stdout",
     "output_type": "stream",
     "text": [
      "epoch 158/200 | Average Loss 0.5135977694747644\n"
     ]
    },
    {
     "name": "stderr",
     "output_type": "stream",
     "text": [
      "Epoch 158: 100%|██████████| 109/109 [00:27<00:00,  3.99it/s, lr=2.21e-05, loss=0.5095]\n"
     ]
    },
    {
     "name": "stdout",
     "output_type": "stream",
     "text": [
      "epoch 159/200 | Average Loss 0.5128953429537082\n"
     ]
    },
    {
     "name": "stderr",
     "output_type": "stream",
     "text": [
      "Epoch 159: 100%|██████████| 109/109 [00:26<00:00,  4.17it/s, lr=2.11e-05, loss=0.5217]\n"
     ]
    },
    {
     "name": "stdout",
     "output_type": "stream",
     "text": [
      "epoch 160/200 | Average Loss 0.5127434249317974\n"
     ]
    },
    {
     "name": "stderr",
     "output_type": "stream",
     "text": [
      "Epoch 160: 100%|██████████| 109/109 [00:26<00:00,  4.13it/s, lr=2.01e-05, loss=0.5188]\n"
     ]
    },
    {
     "name": "stdout",
     "output_type": "stream",
     "text": [
      "epoch 161/200 | Average Loss 0.5127003367887725\n"
     ]
    },
    {
     "name": "stderr",
     "output_type": "stream",
     "text": [
      "Epoch 161: 100%|██████████| 109/109 [00:26<00:00,  4.14it/s, lr=1.91e-05, loss=0.5162]\n"
     ]
    },
    {
     "name": "stdout",
     "output_type": "stream",
     "text": [
      "epoch 162/200 | Average Loss 0.5130544643883311\n"
     ]
    },
    {
     "name": "stderr",
     "output_type": "stream",
     "text": [
      "Epoch 162: 100%|██████████| 109/109 [00:26<00:00,  4.13it/s, lr=1.81e-05, loss=0.5145]\n"
     ]
    },
    {
     "name": "stdout",
     "output_type": "stream",
     "text": [
      "epoch 163/200 | Average Loss 0.5123127507507255\n"
     ]
    },
    {
     "name": "stderr",
     "output_type": "stream",
     "text": [
      "Epoch 163: 100%|██████████| 109/109 [00:26<00:00,  4.13it/s, lr=1.72e-05, loss=0.5052]\n"
     ]
    },
    {
     "name": "stdout",
     "output_type": "stream",
     "text": [
      "epoch 164/200 | Average Loss 0.5116886234064715\n"
     ]
    },
    {
     "name": "stderr",
     "output_type": "stream",
     "text": [
      "Epoch 164: 100%|██████████| 109/109 [00:27<00:00,  3.99it/s, lr=1.63e-05, loss=0.5216]\n"
     ]
    },
    {
     "name": "stdout",
     "output_type": "stream",
     "text": [
      "epoch 165/200 | Average Loss 0.5115776953347232\n"
     ]
    },
    {
     "name": "stderr",
     "output_type": "stream",
     "text": [
      "Epoch 165: 100%|██████████| 109/109 [00:26<00:00,  4.13it/s, lr=1.54e-05, loss=0.5047]\n"
     ]
    },
    {
     "name": "stdout",
     "output_type": "stream",
     "text": [
      "epoch 166/200 | Average Loss 0.511306733166406\n"
     ]
    },
    {
     "name": "stderr",
     "output_type": "stream",
     "text": [
      "Epoch 166: 100%|██████████| 109/109 [00:26<00:00,  4.14it/s, lr=1.45e-05, loss=0.5109]\n"
     ]
    },
    {
     "name": "stdout",
     "output_type": "stream",
     "text": [
      "epoch 167/200 | Average Loss 0.5114901147851156\n"
     ]
    },
    {
     "name": "stderr",
     "output_type": "stream",
     "text": [
      "Epoch 167: 100%|██████████| 109/109 [00:26<00:00,  4.13it/s, lr=1.37e-05, loss=0.5212]\n"
     ]
    },
    {
     "name": "stdout",
     "output_type": "stream",
     "text": [
      "epoch 168/200 | Average Loss 0.5114692247242009\n"
     ]
    },
    {
     "name": "stderr",
     "output_type": "stream",
     "text": [
      "Epoch 168: 100%|██████████| 109/109 [00:26<00:00,  4.14it/s, lr=1.29e-05, loss=0.5116]\n"
     ]
    },
    {
     "name": "stdout",
     "output_type": "stream",
     "text": [
      "epoch 169/200 | Average Loss 0.5107197444373315\n"
     ]
    },
    {
     "name": "stderr",
     "output_type": "stream",
     "text": [
      "Epoch 169: 100%|██████████| 109/109 [00:26<00:00,  4.13it/s, lr=1.21e-05, loss=0.5100]\n"
     ]
    },
    {
     "name": "stdout",
     "output_type": "stream",
     "text": [
      "epoch 170/200 | Average Loss 0.5101895829953185\n"
     ]
    },
    {
     "name": "stderr",
     "output_type": "stream",
     "text": [
      "Epoch 170: 100%|██████████| 109/109 [00:27<00:00,  4.01it/s, lr=1.13e-05, loss=0.5020]\n"
     ]
    },
    {
     "name": "stdout",
     "output_type": "stream",
     "text": [
      "epoch 171/200 | Average Loss 0.510289971434742\n"
     ]
    },
    {
     "name": "stderr",
     "output_type": "stream",
     "text": [
      "Epoch 171: 100%|██████████| 109/109 [00:26<00:00,  4.14it/s, lr=1.05e-05, loss=0.5068]\n"
     ]
    },
    {
     "name": "stdout",
     "output_type": "stream",
     "text": [
      "epoch 172/200 | Average Loss 0.5101327710195419\n"
     ]
    },
    {
     "name": "stderr",
     "output_type": "stream",
     "text": [
      "Epoch 172: 100%|██████████| 109/109 [00:26<00:00,  4.14it/s, lr=9.80e-06, loss=0.5060]\n"
     ]
    },
    {
     "name": "stdout",
     "output_type": "stream",
     "text": [
      "epoch 173/200 | Average Loss 0.5102042484720912\n"
     ]
    },
    {
     "name": "stderr",
     "output_type": "stream",
     "text": [
      "Epoch 173: 100%|██████████| 109/109 [00:26<00:00,  4.13it/s, lr=9.10e-06, loss=0.5126]\n"
     ]
    },
    {
     "name": "stdout",
     "output_type": "stream",
     "text": [
      "epoch 174/200 | Average Loss 0.5101796962799282\n"
     ]
    },
    {
     "name": "stderr",
     "output_type": "stream",
     "text": [
      "Epoch 174: 100%|██████████| 109/109 [00:26<00:00,  4.14it/s, lr=8.42e-06, loss=0.5122]\n"
     ]
    },
    {
     "name": "stdout",
     "output_type": "stream",
     "text": [
      "epoch 175/200 | Average Loss 0.5098553447548403\n"
     ]
    },
    {
     "name": "stderr",
     "output_type": "stream",
     "text": [
      "Epoch 175: 100%|██████████| 109/109 [00:26<00:00,  4.15it/s, lr=7.77e-06, loss=0.5113]\n"
     ]
    },
    {
     "name": "stdout",
     "output_type": "stream",
     "text": [
      "epoch 176/200 | Average Loss 0.5098226343819855\n"
     ]
    },
    {
     "name": "stderr",
     "output_type": "stream",
     "text": [
      "Epoch 176: 100%|██████████| 109/109 [00:26<00:00,  4.15it/s, lr=7.14e-06, loss=0.5034]\n"
     ]
    },
    {
     "name": "stdout",
     "output_type": "stream",
     "text": [
      "epoch 177/200 | Average Loss 0.5094212435801094\n"
     ]
    },
    {
     "name": "stderr",
     "output_type": "stream",
     "text": [
      "Epoch 177: 100%|██████████| 109/109 [00:27<00:00,  4.01it/s, lr=6.54e-06, loss=0.5094]\n"
     ]
    },
    {
     "name": "stdout",
     "output_type": "stream",
     "text": [
      "epoch 178/200 | Average Loss 0.5096894754182308\n"
     ]
    },
    {
     "name": "stderr",
     "output_type": "stream",
     "text": [
      "Epoch 178: 100%|██████████| 109/109 [00:26<00:00,  4.12it/s, lr=5.97e-06, loss=0.5094]\n"
     ]
    },
    {
     "name": "stdout",
     "output_type": "stream",
     "text": [
      "epoch 179/200 | Average Loss 0.509599850265258\n"
     ]
    },
    {
     "name": "stderr",
     "output_type": "stream",
     "text": [
      "Epoch 179: 100%|██████████| 109/109 [00:26<00:00,  4.11it/s, lr=5.42e-06, loss=0.4987]\n"
     ]
    },
    {
     "name": "stdout",
     "output_type": "stream",
     "text": [
      "epoch 180/200 | Average Loss 0.5088713256590957\n"
     ]
    },
    {
     "name": "stderr",
     "output_type": "stream",
     "text": [
      "Epoch 180: 100%|██████████| 109/109 [00:26<00:00,  4.15it/s, lr=4.89e-06, loss=0.5088]\n"
     ]
    },
    {
     "name": "stdout",
     "output_type": "stream",
     "text": [
      "epoch 181/200 | Average Loss 0.5089388779543955\n"
     ]
    },
    {
     "name": "stderr",
     "output_type": "stream",
     "text": [
      "Epoch 181: 100%|██████████| 109/109 [00:26<00:00,  4.13it/s, lr=4.40e-06, loss=0.5045]\n"
     ]
    },
    {
     "name": "stdout",
     "output_type": "stream",
     "text": [
      "epoch 182/200 | Average Loss 0.5086509913479517\n"
     ]
    },
    {
     "name": "stderr",
     "output_type": "stream",
     "text": [
      "Epoch 182: 100%|██████████| 109/109 [00:26<00:00,  4.14it/s, lr=3.92e-06, loss=0.5026]\n"
     ]
    },
    {
     "name": "stdout",
     "output_type": "stream",
     "text": [
      "epoch 183/200 | Average Loss 0.5088622110699295\n"
     ]
    },
    {
     "name": "stderr",
     "output_type": "stream",
     "text": [
      "Epoch 183: 100%|██████████| 109/109 [00:27<00:00,  4.01it/s, lr=3.48e-06, loss=0.5036]\n"
     ]
    },
    {
     "name": "stdout",
     "output_type": "stream",
     "text": [
      "epoch 184/200 | Average Loss 0.5083236502944877\n"
     ]
    },
    {
     "name": "stderr",
     "output_type": "stream",
     "text": [
      "Epoch 184: 100%|██████████| 109/109 [00:26<00:00,  4.13it/s, lr=3.06e-06, loss=0.5072]\n"
     ]
    },
    {
     "name": "stdout",
     "output_type": "stream",
     "text": [
      "epoch 185/200 | Average Loss 0.5085309054873405\n"
     ]
    },
    {
     "name": "stderr",
     "output_type": "stream",
     "text": [
      "Epoch 185: 100%|██████████| 109/109 [00:26<00:00,  4.14it/s, lr=2.67e-06, loss=0.5168]\n"
     ]
    },
    {
     "name": "stdout",
     "output_type": "stream",
     "text": [
      "epoch 186/200 | Average Loss 0.5084974421273678\n"
     ]
    },
    {
     "name": "stderr",
     "output_type": "stream",
     "text": [
      "Epoch 186: 100%|██████████| 109/109 [00:26<00:00,  4.13it/s, lr=2.30e-06, loss=0.5044]\n"
     ]
    },
    {
     "name": "stdout",
     "output_type": "stream",
     "text": [
      "epoch 187/200 | Average Loss 0.5080469835788832\n"
     ]
    },
    {
     "name": "stderr",
     "output_type": "stream",
     "text": [
      "Epoch 187: 100%|██████████| 109/109 [00:26<00:00,  4.13it/s, lr=1.96e-06, loss=0.5081]\n"
     ]
    },
    {
     "name": "stdout",
     "output_type": "stream",
     "text": [
      "epoch 188/200 | Average Loss 0.5085349033731933\n"
     ]
    },
    {
     "name": "stderr",
     "output_type": "stream",
     "text": [
      "Epoch 188: 100%|██████████| 109/109 [00:26<00:00,  4.14it/s, lr=1.65e-06, loss=0.5107]\n"
     ]
    },
    {
     "name": "stdout",
     "output_type": "stream",
     "text": [
      "epoch 189/200 | Average Loss 0.5080494738500053\n"
     ]
    },
    {
     "name": "stderr",
     "output_type": "stream",
     "text": [
      "Epoch 189: 100%|██████████| 109/109 [00:27<00:00,  4.00it/s, lr=1.36e-06, loss=0.5060]\n"
     ]
    },
    {
     "name": "stdout",
     "output_type": "stream",
     "text": [
      "epoch 190/200 | Average Loss 0.5081191948794443\n"
     ]
    },
    {
     "name": "stderr",
     "output_type": "stream",
     "text": [
      "Epoch 190: 100%|██████████| 109/109 [00:26<00:00,  4.14it/s, lr=1.11e-06, loss=0.5123]\n"
     ]
    },
    {
     "name": "stdout",
     "output_type": "stream",
     "text": [
      "epoch 191/200 | Average Loss 0.5081727160226315\n"
     ]
    },
    {
     "name": "stderr",
     "output_type": "stream",
     "text": [
      "Epoch 191: 100%|██████████| 109/109 [00:26<00:00,  4.17it/s, lr=8.74e-07, loss=0.5061]\n"
     ]
    },
    {
     "name": "stdout",
     "output_type": "stream",
     "text": [
      "epoch 192/200 | Average Loss 0.5078915931762905\n"
     ]
    },
    {
     "name": "stderr",
     "output_type": "stream",
     "text": [
      "Epoch 192: 100%|██████████| 109/109 [00:26<00:00,  4.15it/s, lr=6.69e-07, loss=0.5042]\n"
     ]
    },
    {
     "name": "stdout",
     "output_type": "stream",
     "text": [
      "epoch 193/200 | Average Loss 0.5078332899907313\n"
     ]
    },
    {
     "name": "stderr",
     "output_type": "stream",
     "text": [
      "Epoch 193: 100%|██████████| 109/109 [00:26<00:00,  4.15it/s, lr=4.92e-07, loss=0.5142]\n"
     ]
    },
    {
     "name": "stdout",
     "output_type": "stream",
     "text": [
      "epoch 194/200 | Average Loss 0.5079487157524178\n"
     ]
    },
    {
     "name": "stderr",
     "output_type": "stream",
     "text": [
      "Epoch 194: 100%|██████████| 109/109 [00:26<00:00,  4.11it/s, lr=3.42e-07, loss=0.5110]\n"
     ]
    },
    {
     "name": "stdout",
     "output_type": "stream",
     "text": [
      "epoch 195/200 | Average Loss 0.5078534210493805\n"
     ]
    },
    {
     "name": "stderr",
     "output_type": "stream",
     "text": [
      "Epoch 195: 100%|██████████| 109/109 [00:26<00:00,  4.14it/s, lr=2.19e-07, loss=0.5087]\n"
     ]
    },
    {
     "name": "stdout",
     "output_type": "stream",
     "text": [
      "epoch 196/200 | Average Loss 0.5079119533573816\n"
     ]
    },
    {
     "name": "stderr",
     "output_type": "stream",
     "text": [
      "Epoch 196: 100%|██████████| 109/109 [00:27<00:00,  4.00it/s, lr=1.23e-07, loss=0.5044]\n"
     ]
    },
    {
     "name": "stdout",
     "output_type": "stream",
     "text": [
      "epoch 197/200 | Average Loss 0.5081100195919702\n"
     ]
    },
    {
     "name": "stderr",
     "output_type": "stream",
     "text": [
      "Epoch 197: 100%|██████████| 109/109 [00:26<00:00,  4.14it/s, lr=5.47e-08, loss=0.5042]\n"
     ]
    },
    {
     "name": "stdout",
     "output_type": "stream",
     "text": [
      "epoch 198/200 | Average Loss 0.5079583760795243\n"
     ]
    },
    {
     "name": "stderr",
     "output_type": "stream",
     "text": [
      "Epoch 198: 100%|██████████| 109/109 [00:26<00:00,  4.15it/s, lr=1.37e-08, loss=0.5038]\n"
     ]
    },
    {
     "name": "stdout",
     "output_type": "stream",
     "text": [
      "epoch 199/200 | Average Loss 0.5077937349266962\n"
     ]
    },
    {
     "name": "stderr",
     "output_type": "stream",
     "text": [
      "Epoch 199: 100%|██████████| 109/109 [00:26<00:00,  4.15it/s, lr=0.00e+00, loss=0.5042]"
     ]
    },
    {
     "name": "stdout",
     "output_type": "stream",
     "text": [
      "epoch 200/200 | Average Loss 0.5078999946970458\n",
      "Best Loss: 0.5077937349266962\n"
     ]
    },
    {
     "name": "stderr",
     "output_type": "stream",
     "text": [
      "\n"
     ]
    }
   ],
   "source": [
    "model = train_model(\n",
    "    X_train=X_train,\n",
    "    y_train=y_train,\n",
    "    n=200,\n",
    "    batch_size=512\n",
    ")"
   ]
  },
  {
   "cell_type": "code",
   "execution_count": null,
   "id": "0251bd31",
   "metadata": {},
   "outputs": [
    {
     "name": "stdout",
     "output_type": "stream",
     "text": [
      "Evaluating SNR noise level: -5\n",
      "  SNR Improvement: -0.77 dB\n",
      "  Temporal RRMSE: 0.9544\n",
      "  Correlation Coeff: 0.3042\n"
     ]
    }
   ],
   "source": [
    "results = eval_model(\n",
    "    X_test=X_test,\n",
    "    y_test=y_test,\n",
    "    snr=0,\n",
    "    num_inference_steps=150,\n",
    ")"
   ]
  },
  {
   "cell_type": "code",
   "execution_count": 65,
   "id": "d939595b",
   "metadata": {},
   "outputs": [
    {
     "name": "stdout",
     "output_type": "stream",
     "text": [
      "Evaluating SNR noise level: -4\n",
      "  SNR Improvement: 5.05 dB\n",
      "  Temporal RRMSE: 0.8878\n",
      "  Correlation Coeff: 0.5116\n"
     ]
    }
   ],
   "source": [
    "results = eval_model(\n",
    "    X_test=X_test,\n",
    "    y_test=y_test,\n",
    "    snr=1,\n",
    "    num_inference_steps=150,\n",
    ")"
   ]
  },
  {
   "cell_type": "code",
   "execution_count": 66,
   "id": "da682de8",
   "metadata": {},
   "outputs": [
    {
     "name": "stdout",
     "output_type": "stream",
     "text": [
      "Evaluating SNR noise level: -3\n",
      "  SNR Improvement: 4.20 dB\n",
      "  Temporal RRMSE: 0.8728\n",
      "  Correlation Coeff: 0.5289\n"
     ]
    }
   ],
   "source": [
    "results = eval_model(\n",
    "    X_test=X_test,\n",
    "    y_test=y_test,\n",
    "    snr=2,\n",
    "    num_inference_steps=150,\n",
    ")"
   ]
  },
  {
   "cell_type": "code",
   "execution_count": 67,
   "id": "23817bc7",
   "metadata": {},
   "outputs": [
    {
     "name": "stdout",
     "output_type": "stream",
     "text": [
      "Evaluating SNR noise level: 3\n",
      "  SNR Improvement: -1.22 dB\n",
      "  Temporal RRMSE: 0.8159\n",
      "  Correlation Coeff: 0.5923\n"
     ]
    }
   ],
   "source": [
    "results = eval_model(\n",
    "    X_test=X_test,\n",
    "    y_test=y_test,\n",
    "    snr=8,\n",
    "    num_inference_steps=150,\n",
    ")"
   ]
  },
  {
   "cell_type": "code",
   "execution_count": 68,
   "id": "75d2cdf2",
   "metadata": {},
   "outputs": [
    {
     "name": "stdout",
     "output_type": "stream",
     "text": [
      "Evaluating SNR noise level: 5\n",
      "  SNR Improvement: -3.12 dB\n",
      "  Temporal RRMSE: 0.8065\n",
      "  Correlation Coeff: 0.6023\n"
     ]
    }
   ],
   "source": [
    "results = eval_model(\n",
    "    X_test=X_test,\n",
    "    y_test=y_test,\n",
    "    snr=10,\n",
    "    num_inference_steps=150,\n",
    ")"
   ]
  },
  {
   "cell_type": "code",
   "execution_count": 32,
   "id": "e4803326",
   "metadata": {},
   "outputs": [
    {
     "name": "stdout",
     "output_type": "stream",
     "text": [
      "None\n"
     ]
    }
   ],
   "source": [
    "print(results)"
   ]
  }
 ],
 "metadata": {
  "kernelspec": {
   "display_name": "a1nlp",
   "language": "python",
   "name": "python3"
  },
  "language_info": {
   "codemirror_mode": {
    "name": "ipython",
    "version": 3
   },
   "file_extension": ".py",
   "mimetype": "text/x-python",
   "name": "python",
   "nbconvert_exporter": "python",
   "pygments_lexer": "ipython3",
   "version": "3.11.8"
  }
 },
 "nbformat": 4,
 "nbformat_minor": 5
}
